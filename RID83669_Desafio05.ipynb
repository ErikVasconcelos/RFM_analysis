{
  "nbformat": 4,
  "nbformat_minor": 0,
  "metadata": {
    "colab": {
      "provenance": []
    },
    "kernelspec": {
      "name": "python3",
      "display_name": "Python 3"
    },
    "language_info": {
      "name": "python"
    }
  },
  "cells": [
    {
      "cell_type": "markdown",
      "source": [
        "# **Contexto**\n",
        "\n",
        "Uma empresa do ramo de e-commerce contratou você para levantar os indicadores de recência, frequência e ticket médio (RFM) dos seus clientes.\n",
        "\n",
        "A saber RFM:\n",
        "\n",
        "- R (Recency): Tempo que o cliente realizou a última compra (em dias)\n",
        "- F (Frequency): Quantidade de compras realizadas pelo cliente\n",
        "- M (Monetary): Valor do ticket médio gasto pelo cliente\n",
        "\n",
        "onde ticket médio = média do total gasto por pedido para cada cliente.\n",
        "\n",
        "Para isso, vocês receberam uma base de dados (arquivo csv) e devem construir um código em Python que gera um output também csv, porém contendo apenas a identificação do cliente e métricas RFM.\n",
        "\n",
        "## Sobre os dados\n",
        "\n",
        "A tabela contém informações de compras de um e-commerce em 37 países. Contém a identificação do cliente e os dados da compra.\n",
        "\n",
        "| **Coluna** | **Descrição** |\n",
        "| --- | --- |\n",
        "| **CustomerID** | **Código de identificação do cliente** |\n",
        "| **Description** | **Descrição do produto** |\n",
        "| **InvoiceNo** | **Código da fatura** |\n",
        "| **StockCode** | **Código de estoque do produto** |\n",
        "| **Quantity** | **Quantidade do produto** |\n",
        "| **InvoiceDate** | **Data do faturamento (compra)** |\n",
        "| **UnitPrice** | **Preço unitário do produto** |\n",
        "| **Country** | **País da compra** |\n",
        "\n",
        "## **Como começar?**\n",
        "\n",
        "1. Importe o dataset para o colab\n",
        "2. Entenda os dados\n",
        "3. Trate os dados nulos\n",
        "4. Trate os outliers\n",
        "\n",
        "Desenvolva o algoritmo para receber o arquivo csv de entrada e retornar um algoritmo de saída com as seguintes colunas:\n",
        "\n",
        "- **CustomerID: Código do cliente**\n",
        "- **R: Recência**\n",
        "- **F: Frequência**\n",
        "- **M: Ticket médio**"
      ],
      "metadata": {
        "id": "bEMYCLIZVGZD"
      }
    },
    {
      "cell_type": "markdown",
      "source": [
        "## 1 - Análise Descritiva"
      ],
      "metadata": {
        "id": "OSNDBzL5UHuG"
      }
    },
    {
      "cell_type": "markdown",
      "source": [
        "### 1.1 - Upload do arquivo (desafio_5.csv)"
      ],
      "metadata": {
        "id": "xM2C9iTaN2vE"
      }
    },
    {
      "cell_type": "code",
      "execution_count": 64,
      "metadata": {
        "id": "e0vhiBp-soPQ",
        "colab": {
          "base_uri": "https://localhost:8080/",
          "height": 36
        },
        "outputId": "bf9c8569-54f9-462a-ccd4-0d74c7aac0c9"
      },
      "outputs": [
        {
          "output_type": "display_data",
          "data": {
            "text/plain": [
              "<IPython.core.display.HTML object>"
            ],
            "text/html": [
              "\n",
              "     <input type=\"file\" id=\"files-a2744347-5024-41f7-bed6-00fda23aba47\" name=\"files[]\" multiple disabled\n",
              "        style=\"border:none\" />\n",
              "     <output id=\"result-a2744347-5024-41f7-bed6-00fda23aba47\">\n",
              "      Upload widget is only available when the cell has been executed in the\n",
              "      current browser session. Please rerun this cell to enable.\n",
              "      </output>\n",
              "      <script>// Copyright 2017 Google LLC\n",
              "//\n",
              "// Licensed under the Apache License, Version 2.0 (the \"License\");\n",
              "// you may not use this file except in compliance with the License.\n",
              "// You may obtain a copy of the License at\n",
              "//\n",
              "//      http://www.apache.org/licenses/LICENSE-2.0\n",
              "//\n",
              "// Unless required by applicable law or agreed to in writing, software\n",
              "// distributed under the License is distributed on an \"AS IS\" BASIS,\n",
              "// WITHOUT WARRANTIES OR CONDITIONS OF ANY KIND, either express or implied.\n",
              "// See the License for the specific language governing permissions and\n",
              "// limitations under the License.\n",
              "\n",
              "/**\n",
              " * @fileoverview Helpers for google.colab Python module.\n",
              " */\n",
              "(function(scope) {\n",
              "function span(text, styleAttributes = {}) {\n",
              "  const element = document.createElement('span');\n",
              "  element.textContent = text;\n",
              "  for (const key of Object.keys(styleAttributes)) {\n",
              "    element.style[key] = styleAttributes[key];\n",
              "  }\n",
              "  return element;\n",
              "}\n",
              "\n",
              "// Max number of bytes which will be uploaded at a time.\n",
              "const MAX_PAYLOAD_SIZE = 100 * 1024;\n",
              "\n",
              "function _uploadFiles(inputId, outputId) {\n",
              "  const steps = uploadFilesStep(inputId, outputId);\n",
              "  const outputElement = document.getElementById(outputId);\n",
              "  // Cache steps on the outputElement to make it available for the next call\n",
              "  // to uploadFilesContinue from Python.\n",
              "  outputElement.steps = steps;\n",
              "\n",
              "  return _uploadFilesContinue(outputId);\n",
              "}\n",
              "\n",
              "// This is roughly an async generator (not supported in the browser yet),\n",
              "// where there are multiple asynchronous steps and the Python side is going\n",
              "// to poll for completion of each step.\n",
              "// This uses a Promise to block the python side on completion of each step,\n",
              "// then passes the result of the previous step as the input to the next step.\n",
              "function _uploadFilesContinue(outputId) {\n",
              "  const outputElement = document.getElementById(outputId);\n",
              "  const steps = outputElement.steps;\n",
              "\n",
              "  const next = steps.next(outputElement.lastPromiseValue);\n",
              "  return Promise.resolve(next.value.promise).then((value) => {\n",
              "    // Cache the last promise value to make it available to the next\n",
              "    // step of the generator.\n",
              "    outputElement.lastPromiseValue = value;\n",
              "    return next.value.response;\n",
              "  });\n",
              "}\n",
              "\n",
              "/**\n",
              " * Generator function which is called between each async step of the upload\n",
              " * process.\n",
              " * @param {string} inputId Element ID of the input file picker element.\n",
              " * @param {string} outputId Element ID of the output display.\n",
              " * @return {!Iterable<!Object>} Iterable of next steps.\n",
              " */\n",
              "function* uploadFilesStep(inputId, outputId) {\n",
              "  const inputElement = document.getElementById(inputId);\n",
              "  inputElement.disabled = false;\n",
              "\n",
              "  const outputElement = document.getElementById(outputId);\n",
              "  outputElement.innerHTML = '';\n",
              "\n",
              "  const pickedPromise = new Promise((resolve) => {\n",
              "    inputElement.addEventListener('change', (e) => {\n",
              "      resolve(e.target.files);\n",
              "    });\n",
              "  });\n",
              "\n",
              "  const cancel = document.createElement('button');\n",
              "  inputElement.parentElement.appendChild(cancel);\n",
              "  cancel.textContent = 'Cancel upload';\n",
              "  const cancelPromise = new Promise((resolve) => {\n",
              "    cancel.onclick = () => {\n",
              "      resolve(null);\n",
              "    };\n",
              "  });\n",
              "\n",
              "  // Wait for the user to pick the files.\n",
              "  const files = yield {\n",
              "    promise: Promise.race([pickedPromise, cancelPromise]),\n",
              "    response: {\n",
              "      action: 'starting',\n",
              "    }\n",
              "  };\n",
              "\n",
              "  cancel.remove();\n",
              "\n",
              "  // Disable the input element since further picks are not allowed.\n",
              "  inputElement.disabled = true;\n",
              "\n",
              "  if (!files) {\n",
              "    return {\n",
              "      response: {\n",
              "        action: 'complete',\n",
              "      }\n",
              "    };\n",
              "  }\n",
              "\n",
              "  for (const file of files) {\n",
              "    const li = document.createElement('li');\n",
              "    li.append(span(file.name, {fontWeight: 'bold'}));\n",
              "    li.append(span(\n",
              "        `(${file.type || 'n/a'}) - ${file.size} bytes, ` +\n",
              "        `last modified: ${\n",
              "            file.lastModifiedDate ? file.lastModifiedDate.toLocaleDateString() :\n",
              "                                    'n/a'} - `));\n",
              "    const percent = span('0% done');\n",
              "    li.appendChild(percent);\n",
              "\n",
              "    outputElement.appendChild(li);\n",
              "\n",
              "    const fileDataPromise = new Promise((resolve) => {\n",
              "      const reader = new FileReader();\n",
              "      reader.onload = (e) => {\n",
              "        resolve(e.target.result);\n",
              "      };\n",
              "      reader.readAsArrayBuffer(file);\n",
              "    });\n",
              "    // Wait for the data to be ready.\n",
              "    let fileData = yield {\n",
              "      promise: fileDataPromise,\n",
              "      response: {\n",
              "        action: 'continue',\n",
              "      }\n",
              "    };\n",
              "\n",
              "    // Use a chunked sending to avoid message size limits. See b/62115660.\n",
              "    let position = 0;\n",
              "    do {\n",
              "      const length = Math.min(fileData.byteLength - position, MAX_PAYLOAD_SIZE);\n",
              "      const chunk = new Uint8Array(fileData, position, length);\n",
              "      position += length;\n",
              "\n",
              "      const base64 = btoa(String.fromCharCode.apply(null, chunk));\n",
              "      yield {\n",
              "        response: {\n",
              "          action: 'append',\n",
              "          file: file.name,\n",
              "          data: base64,\n",
              "        },\n",
              "      };\n",
              "\n",
              "      let percentDone = fileData.byteLength === 0 ?\n",
              "          100 :\n",
              "          Math.round((position / fileData.byteLength) * 100);\n",
              "      percent.textContent = `${percentDone}% done`;\n",
              "\n",
              "    } while (position < fileData.byteLength);\n",
              "  }\n",
              "\n",
              "  // All done.\n",
              "  yield {\n",
              "    response: {\n",
              "      action: 'complete',\n",
              "    }\n",
              "  };\n",
              "}\n",
              "\n",
              "scope.google = scope.google || {};\n",
              "scope.google.colab = scope.google.colab || {};\n",
              "scope.google.colab._files = {\n",
              "  _uploadFiles,\n",
              "  _uploadFilesContinue,\n",
              "};\n",
              "})(self);\n",
              "</script> "
            ]
          },
          "metadata": {}
        }
      ],
      "source": [
        "from google.colab import files\n",
        "uploaded = files.upload()"
      ]
    },
    {
      "cell_type": "markdown",
      "source": [
        "### 1.2 - Importar bibliotecas"
      ],
      "metadata": {
        "id": "mqkRgdPwP4t6"
      }
    },
    {
      "cell_type": "code",
      "source": [
        "import pandas as pd\n"
      ],
      "metadata": {
        "id": "fbrZZ2O9P39l"
      },
      "execution_count": 65,
      "outputs": []
    },
    {
      "cell_type": "markdown",
      "source": [
        "### 1.3 - Análise do DataFrame (df)"
      ],
      "metadata": {
        "id": "YyQ-mOEkQIk7"
      }
    },
    {
      "cell_type": "code",
      "source": [
        "# O df = pd.read_csv não está funcionando\n",
        "\n",
        "df = pd.read_csv(\"desafio_5.csv\", encoding=\"latin1\")  # Codificação mais comum para caracteres especiais\n",
        "# ou\n",
        "df = pd.read_csv(\"desafio_5.csv\", encoding=\"ISO-8859-1\")\n",
        "# ou\n",
        "df = pd.read_csv(\"desafio_5.csv\", encoding=\"cp1252\")"
      ],
      "metadata": {
        "id": "mYqv2PiGQPKP"
      },
      "execution_count": 66,
      "outputs": []
    },
    {
      "cell_type": "code",
      "source": [
        "df.head()"
      ],
      "metadata": {
        "colab": {
          "base_uri": "https://localhost:8080/",
          "height": 206
        },
        "id": "eZZaLTK6Rzkk",
        "outputId": "d807e541-cf2b-482e-c480-670fc2bf5bad"
      },
      "execution_count": 67,
      "outputs": [
        {
          "output_type": "execute_result",
          "data": {
            "text/plain": [
              "  InvoiceNo StockCode                          Description  Quantity  \\\n",
              "0    536365    85123A   WHITE HANGING HEART T-LIGHT HOLDER         6   \n",
              "1    536365     71053                  WHITE METAL LANTERN         6   \n",
              "2    536365    84406B       CREAM CUPID HEARTS COAT HANGER         8   \n",
              "3    536365    84029G  KNITTED UNION FLAG HOT WATER BOTTLE         6   \n",
              "4    536365    84029E       RED WOOLLY HOTTIE WHITE HEART.         6   \n",
              "\n",
              "      InvoiceDate  UnitPrice  CustomerID         Country  \n",
              "0  12/1/2010 8:26       2.55     17850.0  United Kingdom  \n",
              "1  12/1/2010 8:26       3.39     17850.0  United Kingdom  \n",
              "2  12/1/2010 8:26       2.75     17850.0  United Kingdom  \n",
              "3  12/1/2010 8:26       3.39     17850.0  United Kingdom  \n",
              "4  12/1/2010 8:26       3.39     17850.0  United Kingdom  "
            ],
            "text/html": [
              "\n",
              "  <div id=\"df-06521ea2-4a57-42a5-ad24-a77c50ac60e9\" class=\"colab-df-container\">\n",
              "    <div>\n",
              "<style scoped>\n",
              "    .dataframe tbody tr th:only-of-type {\n",
              "        vertical-align: middle;\n",
              "    }\n",
              "\n",
              "    .dataframe tbody tr th {\n",
              "        vertical-align: top;\n",
              "    }\n",
              "\n",
              "    .dataframe thead th {\n",
              "        text-align: right;\n",
              "    }\n",
              "</style>\n",
              "<table border=\"1\" class=\"dataframe\">\n",
              "  <thead>\n",
              "    <tr style=\"text-align: right;\">\n",
              "      <th></th>\n",
              "      <th>InvoiceNo</th>\n",
              "      <th>StockCode</th>\n",
              "      <th>Description</th>\n",
              "      <th>Quantity</th>\n",
              "      <th>InvoiceDate</th>\n",
              "      <th>UnitPrice</th>\n",
              "      <th>CustomerID</th>\n",
              "      <th>Country</th>\n",
              "    </tr>\n",
              "  </thead>\n",
              "  <tbody>\n",
              "    <tr>\n",
              "      <th>0</th>\n",
              "      <td>536365</td>\n",
              "      <td>85123A</td>\n",
              "      <td>WHITE HANGING HEART T-LIGHT HOLDER</td>\n",
              "      <td>6</td>\n",
              "      <td>12/1/2010 8:26</td>\n",
              "      <td>2.55</td>\n",
              "      <td>17850.0</td>\n",
              "      <td>United Kingdom</td>\n",
              "    </tr>\n",
              "    <tr>\n",
              "      <th>1</th>\n",
              "      <td>536365</td>\n",
              "      <td>71053</td>\n",
              "      <td>WHITE METAL LANTERN</td>\n",
              "      <td>6</td>\n",
              "      <td>12/1/2010 8:26</td>\n",
              "      <td>3.39</td>\n",
              "      <td>17850.0</td>\n",
              "      <td>United Kingdom</td>\n",
              "    </tr>\n",
              "    <tr>\n",
              "      <th>2</th>\n",
              "      <td>536365</td>\n",
              "      <td>84406B</td>\n",
              "      <td>CREAM CUPID HEARTS COAT HANGER</td>\n",
              "      <td>8</td>\n",
              "      <td>12/1/2010 8:26</td>\n",
              "      <td>2.75</td>\n",
              "      <td>17850.0</td>\n",
              "      <td>United Kingdom</td>\n",
              "    </tr>\n",
              "    <tr>\n",
              "      <th>3</th>\n",
              "      <td>536365</td>\n",
              "      <td>84029G</td>\n",
              "      <td>KNITTED UNION FLAG HOT WATER BOTTLE</td>\n",
              "      <td>6</td>\n",
              "      <td>12/1/2010 8:26</td>\n",
              "      <td>3.39</td>\n",
              "      <td>17850.0</td>\n",
              "      <td>United Kingdom</td>\n",
              "    </tr>\n",
              "    <tr>\n",
              "      <th>4</th>\n",
              "      <td>536365</td>\n",
              "      <td>84029E</td>\n",
              "      <td>RED WOOLLY HOTTIE WHITE HEART.</td>\n",
              "      <td>6</td>\n",
              "      <td>12/1/2010 8:26</td>\n",
              "      <td>3.39</td>\n",
              "      <td>17850.0</td>\n",
              "      <td>United Kingdom</td>\n",
              "    </tr>\n",
              "  </tbody>\n",
              "</table>\n",
              "</div>\n",
              "    <div class=\"colab-df-buttons\">\n",
              "\n",
              "  <div class=\"colab-df-container\">\n",
              "    <button class=\"colab-df-convert\" onclick=\"convertToInteractive('df-06521ea2-4a57-42a5-ad24-a77c50ac60e9')\"\n",
              "            title=\"Convert this dataframe to an interactive table.\"\n",
              "            style=\"display:none;\">\n",
              "\n",
              "  <svg xmlns=\"http://www.w3.org/2000/svg\" height=\"24px\" viewBox=\"0 -960 960 960\">\n",
              "    <path d=\"M120-120v-720h720v720H120Zm60-500h600v-160H180v160Zm220 220h160v-160H400v160Zm0 220h160v-160H400v160ZM180-400h160v-160H180v160Zm440 0h160v-160H620v160ZM180-180h160v-160H180v160Zm440 0h160v-160H620v160Z\"/>\n",
              "  </svg>\n",
              "    </button>\n",
              "\n",
              "  <style>\n",
              "    .colab-df-container {\n",
              "      display:flex;\n",
              "      gap: 12px;\n",
              "    }\n",
              "\n",
              "    .colab-df-convert {\n",
              "      background-color: #E8F0FE;\n",
              "      border: none;\n",
              "      border-radius: 50%;\n",
              "      cursor: pointer;\n",
              "      display: none;\n",
              "      fill: #1967D2;\n",
              "      height: 32px;\n",
              "      padding: 0 0 0 0;\n",
              "      width: 32px;\n",
              "    }\n",
              "\n",
              "    .colab-df-convert:hover {\n",
              "      background-color: #E2EBFA;\n",
              "      box-shadow: 0px 1px 2px rgba(60, 64, 67, 0.3), 0px 1px 3px 1px rgba(60, 64, 67, 0.15);\n",
              "      fill: #174EA6;\n",
              "    }\n",
              "\n",
              "    .colab-df-buttons div {\n",
              "      margin-bottom: 4px;\n",
              "    }\n",
              "\n",
              "    [theme=dark] .colab-df-convert {\n",
              "      background-color: #3B4455;\n",
              "      fill: #D2E3FC;\n",
              "    }\n",
              "\n",
              "    [theme=dark] .colab-df-convert:hover {\n",
              "      background-color: #434B5C;\n",
              "      box-shadow: 0px 1px 3px 1px rgba(0, 0, 0, 0.15);\n",
              "      filter: drop-shadow(0px 1px 2px rgba(0, 0, 0, 0.3));\n",
              "      fill: #FFFFFF;\n",
              "    }\n",
              "  </style>\n",
              "\n",
              "    <script>\n",
              "      const buttonEl =\n",
              "        document.querySelector('#df-06521ea2-4a57-42a5-ad24-a77c50ac60e9 button.colab-df-convert');\n",
              "      buttonEl.style.display =\n",
              "        google.colab.kernel.accessAllowed ? 'block' : 'none';\n",
              "\n",
              "      async function convertToInteractive(key) {\n",
              "        const element = document.querySelector('#df-06521ea2-4a57-42a5-ad24-a77c50ac60e9');\n",
              "        const dataTable =\n",
              "          await google.colab.kernel.invokeFunction('convertToInteractive',\n",
              "                                                    [key], {});\n",
              "        if (!dataTable) return;\n",
              "\n",
              "        const docLinkHtml = 'Like what you see? Visit the ' +\n",
              "          '<a target=\"_blank\" href=https://colab.research.google.com/notebooks/data_table.ipynb>data table notebook</a>'\n",
              "          + ' to learn more about interactive tables.';\n",
              "        element.innerHTML = '';\n",
              "        dataTable['output_type'] = 'display_data';\n",
              "        await google.colab.output.renderOutput(dataTable, element);\n",
              "        const docLink = document.createElement('div');\n",
              "        docLink.innerHTML = docLinkHtml;\n",
              "        element.appendChild(docLink);\n",
              "      }\n",
              "    </script>\n",
              "  </div>\n",
              "\n",
              "\n",
              "<div id=\"df-a10fb8b5-2ea6-4a2f-832b-84826edbca70\">\n",
              "  <button class=\"colab-df-quickchart\" onclick=\"quickchart('df-a10fb8b5-2ea6-4a2f-832b-84826edbca70')\"\n",
              "            title=\"Suggest charts\"\n",
              "            style=\"display:none;\">\n",
              "\n",
              "<svg xmlns=\"http://www.w3.org/2000/svg\" height=\"24px\"viewBox=\"0 0 24 24\"\n",
              "     width=\"24px\">\n",
              "    <g>\n",
              "        <path d=\"M19 3H5c-1.1 0-2 .9-2 2v14c0 1.1.9 2 2 2h14c1.1 0 2-.9 2-2V5c0-1.1-.9-2-2-2zM9 17H7v-7h2v7zm4 0h-2V7h2v10zm4 0h-2v-4h2v4z\"/>\n",
              "    </g>\n",
              "</svg>\n",
              "  </button>\n",
              "\n",
              "<style>\n",
              "  .colab-df-quickchart {\n",
              "      --bg-color: #E8F0FE;\n",
              "      --fill-color: #1967D2;\n",
              "      --hover-bg-color: #E2EBFA;\n",
              "      --hover-fill-color: #174EA6;\n",
              "      --disabled-fill-color: #AAA;\n",
              "      --disabled-bg-color: #DDD;\n",
              "  }\n",
              "\n",
              "  [theme=dark] .colab-df-quickchart {\n",
              "      --bg-color: #3B4455;\n",
              "      --fill-color: #D2E3FC;\n",
              "      --hover-bg-color: #434B5C;\n",
              "      --hover-fill-color: #FFFFFF;\n",
              "      --disabled-bg-color: #3B4455;\n",
              "      --disabled-fill-color: #666;\n",
              "  }\n",
              "\n",
              "  .colab-df-quickchart {\n",
              "    background-color: var(--bg-color);\n",
              "    border: none;\n",
              "    border-radius: 50%;\n",
              "    cursor: pointer;\n",
              "    display: none;\n",
              "    fill: var(--fill-color);\n",
              "    height: 32px;\n",
              "    padding: 0;\n",
              "    width: 32px;\n",
              "  }\n",
              "\n",
              "  .colab-df-quickchart:hover {\n",
              "    background-color: var(--hover-bg-color);\n",
              "    box-shadow: 0 1px 2px rgba(60, 64, 67, 0.3), 0 1px 3px 1px rgba(60, 64, 67, 0.15);\n",
              "    fill: var(--button-hover-fill-color);\n",
              "  }\n",
              "\n",
              "  .colab-df-quickchart-complete:disabled,\n",
              "  .colab-df-quickchart-complete:disabled:hover {\n",
              "    background-color: var(--disabled-bg-color);\n",
              "    fill: var(--disabled-fill-color);\n",
              "    box-shadow: none;\n",
              "  }\n",
              "\n",
              "  .colab-df-spinner {\n",
              "    border: 2px solid var(--fill-color);\n",
              "    border-color: transparent;\n",
              "    border-bottom-color: var(--fill-color);\n",
              "    animation:\n",
              "      spin 1s steps(1) infinite;\n",
              "  }\n",
              "\n",
              "  @keyframes spin {\n",
              "    0% {\n",
              "      border-color: transparent;\n",
              "      border-bottom-color: var(--fill-color);\n",
              "      border-left-color: var(--fill-color);\n",
              "    }\n",
              "    20% {\n",
              "      border-color: transparent;\n",
              "      border-left-color: var(--fill-color);\n",
              "      border-top-color: var(--fill-color);\n",
              "    }\n",
              "    30% {\n",
              "      border-color: transparent;\n",
              "      border-left-color: var(--fill-color);\n",
              "      border-top-color: var(--fill-color);\n",
              "      border-right-color: var(--fill-color);\n",
              "    }\n",
              "    40% {\n",
              "      border-color: transparent;\n",
              "      border-right-color: var(--fill-color);\n",
              "      border-top-color: var(--fill-color);\n",
              "    }\n",
              "    60% {\n",
              "      border-color: transparent;\n",
              "      border-right-color: var(--fill-color);\n",
              "    }\n",
              "    80% {\n",
              "      border-color: transparent;\n",
              "      border-right-color: var(--fill-color);\n",
              "      border-bottom-color: var(--fill-color);\n",
              "    }\n",
              "    90% {\n",
              "      border-color: transparent;\n",
              "      border-bottom-color: var(--fill-color);\n",
              "    }\n",
              "  }\n",
              "</style>\n",
              "\n",
              "  <script>\n",
              "    async function quickchart(key) {\n",
              "      const quickchartButtonEl =\n",
              "        document.querySelector('#' + key + ' button');\n",
              "      quickchartButtonEl.disabled = true;  // To prevent multiple clicks.\n",
              "      quickchartButtonEl.classList.add('colab-df-spinner');\n",
              "      try {\n",
              "        const charts = await google.colab.kernel.invokeFunction(\n",
              "            'suggestCharts', [key], {});\n",
              "      } catch (error) {\n",
              "        console.error('Error during call to suggestCharts:', error);\n",
              "      }\n",
              "      quickchartButtonEl.classList.remove('colab-df-spinner');\n",
              "      quickchartButtonEl.classList.add('colab-df-quickchart-complete');\n",
              "    }\n",
              "    (() => {\n",
              "      let quickchartButtonEl =\n",
              "        document.querySelector('#df-a10fb8b5-2ea6-4a2f-832b-84826edbca70 button');\n",
              "      quickchartButtonEl.style.display =\n",
              "        google.colab.kernel.accessAllowed ? 'block' : 'none';\n",
              "    })();\n",
              "  </script>\n",
              "</div>\n",
              "\n",
              "    </div>\n",
              "  </div>\n"
            ],
            "application/vnd.google.colaboratory.intrinsic+json": {
              "type": "dataframe",
              "variable_name": "df"
            }
          },
          "metadata": {},
          "execution_count": 67
        }
      ]
    },
    {
      "cell_type": "code",
      "source": [
        "df.info()"
      ],
      "metadata": {
        "colab": {
          "base_uri": "https://localhost:8080/"
        },
        "id": "1S_B9DNpSXOQ",
        "outputId": "f5b9cca8-ea5e-48ad-911c-e3440d25ef49"
      },
      "execution_count": 68,
      "outputs": [
        {
          "output_type": "stream",
          "name": "stdout",
          "text": [
            "<class 'pandas.core.frame.DataFrame'>\n",
            "RangeIndex: 541909 entries, 0 to 541908\n",
            "Data columns (total 8 columns):\n",
            " #   Column       Non-Null Count   Dtype  \n",
            "---  ------       --------------   -----  \n",
            " 0   InvoiceNo    541909 non-null  object \n",
            " 1   StockCode    541909 non-null  object \n",
            " 2   Description  540455 non-null  object \n",
            " 3   Quantity     541909 non-null  int64  \n",
            " 4   InvoiceDate  541909 non-null  object \n",
            " 5   UnitPrice    541909 non-null  float64\n",
            " 6   CustomerID   406829 non-null  float64\n",
            " 7   Country      541909 non-null  object \n",
            "dtypes: float64(2), int64(1), object(5)\n",
            "memory usage: 33.1+ MB\n"
          ]
        }
      ]
    },
    {
      "cell_type": "code",
      "source": [
        "# InvoiceNo - object / str\n",
        "# StockCode - object / str\n",
        "# Description - object / str\n",
        "# Quantity - int\n",
        "# InvoiceDate - datetime\n",
        "# UnitPrice - float\n",
        "# CustomerID - int\n",
        "# Country - object / str\n",
        "\n",
        "\n",
        "df['InvoiceDate'] = pd.to_datetime(df['InvoiceDate'], format='%m/%d/%Y %H:%M') # datetime64[ns]\n",
        "\n",
        "df = df.dropna(subset=['CustomerID'])\n",
        "df['CustomerID'] = df['CustomerID'].astype(int)\n",
        "# int\n",
        "\n",
        "df.info()"
      ],
      "metadata": {
        "colab": {
          "base_uri": "https://localhost:8080/"
        },
        "id": "e7gxHfonbbpR",
        "outputId": "a45d192e-a333-4686-c3e1-83eead337c3a"
      },
      "execution_count": 69,
      "outputs": [
        {
          "output_type": "stream",
          "name": "stdout",
          "text": [
            "<class 'pandas.core.frame.DataFrame'>\n",
            "Index: 406829 entries, 0 to 541908\n",
            "Data columns (total 8 columns):\n",
            " #   Column       Non-Null Count   Dtype         \n",
            "---  ------       --------------   -----         \n",
            " 0   InvoiceNo    406829 non-null  object        \n",
            " 1   StockCode    406829 non-null  object        \n",
            " 2   Description  406829 non-null  object        \n",
            " 3   Quantity     406829 non-null  int64         \n",
            " 4   InvoiceDate  406829 non-null  datetime64[ns]\n",
            " 5   UnitPrice    406829 non-null  float64       \n",
            " 6   CustomerID   406829 non-null  int64         \n",
            " 7   Country      406829 non-null  object        \n",
            "dtypes: datetime64[ns](1), float64(1), int64(2), object(4)\n",
            "memory usage: 27.9+ MB\n"
          ]
        },
        {
          "output_type": "stream",
          "name": "stderr",
          "text": [
            "<ipython-input-69-73dc9b945281>:14: SettingWithCopyWarning: \n",
            "A value is trying to be set on a copy of a slice from a DataFrame.\n",
            "Try using .loc[row_indexer,col_indexer] = value instead\n",
            "\n",
            "See the caveats in the documentation: https://pandas.pydata.org/pandas-docs/stable/user_guide/indexing.html#returning-a-view-versus-a-copy\n",
            "  df['CustomerID'] = df['CustomerID'].astype(int)\n"
          ]
        }
      ]
    },
    {
      "cell_type": "code",
      "source": [
        "df.describe()"
      ],
      "metadata": {
        "colab": {
          "base_uri": "https://localhost:8080/",
          "height": 301
        },
        "id": "naVPIodgSaHX",
        "outputId": "d5781e68-e0a2-46f1-e91a-cadf44107ae9"
      },
      "execution_count": 70,
      "outputs": [
        {
          "output_type": "execute_result",
          "data": {
            "text/plain": [
              "            Quantity                    InvoiceDate      UnitPrice  \\\n",
              "count  406829.000000                         406829  406829.000000   \n",
              "mean       12.061303  2011-07-10 16:30:57.879207424       3.460471   \n",
              "min    -80995.000000            2010-12-01 08:26:00       0.000000   \n",
              "25%         2.000000            2011-04-06 15:02:00       1.250000   \n",
              "50%         5.000000            2011-07-31 11:48:00       1.950000   \n",
              "75%        12.000000            2011-10-20 13:06:00       3.750000   \n",
              "max     80995.000000            2011-12-09 12:50:00   38970.000000   \n",
              "std       248.693370                            NaN      69.315162   \n",
              "\n",
              "          CustomerID  \n",
              "count  406829.000000  \n",
              "mean    15287.690570  \n",
              "min     12346.000000  \n",
              "25%     13953.000000  \n",
              "50%     15152.000000  \n",
              "75%     16791.000000  \n",
              "max     18287.000000  \n",
              "std      1713.600303  "
            ],
            "text/html": [
              "\n",
              "  <div id=\"df-849305c5-676a-45d4-b992-bd005e7b72ad\" class=\"colab-df-container\">\n",
              "    <div>\n",
              "<style scoped>\n",
              "    .dataframe tbody tr th:only-of-type {\n",
              "        vertical-align: middle;\n",
              "    }\n",
              "\n",
              "    .dataframe tbody tr th {\n",
              "        vertical-align: top;\n",
              "    }\n",
              "\n",
              "    .dataframe thead th {\n",
              "        text-align: right;\n",
              "    }\n",
              "</style>\n",
              "<table border=\"1\" class=\"dataframe\">\n",
              "  <thead>\n",
              "    <tr style=\"text-align: right;\">\n",
              "      <th></th>\n",
              "      <th>Quantity</th>\n",
              "      <th>InvoiceDate</th>\n",
              "      <th>UnitPrice</th>\n",
              "      <th>CustomerID</th>\n",
              "    </tr>\n",
              "  </thead>\n",
              "  <tbody>\n",
              "    <tr>\n",
              "      <th>count</th>\n",
              "      <td>406829.000000</td>\n",
              "      <td>406829</td>\n",
              "      <td>406829.000000</td>\n",
              "      <td>406829.000000</td>\n",
              "    </tr>\n",
              "    <tr>\n",
              "      <th>mean</th>\n",
              "      <td>12.061303</td>\n",
              "      <td>2011-07-10 16:30:57.879207424</td>\n",
              "      <td>3.460471</td>\n",
              "      <td>15287.690570</td>\n",
              "    </tr>\n",
              "    <tr>\n",
              "      <th>min</th>\n",
              "      <td>-80995.000000</td>\n",
              "      <td>2010-12-01 08:26:00</td>\n",
              "      <td>0.000000</td>\n",
              "      <td>12346.000000</td>\n",
              "    </tr>\n",
              "    <tr>\n",
              "      <th>25%</th>\n",
              "      <td>2.000000</td>\n",
              "      <td>2011-04-06 15:02:00</td>\n",
              "      <td>1.250000</td>\n",
              "      <td>13953.000000</td>\n",
              "    </tr>\n",
              "    <tr>\n",
              "      <th>50%</th>\n",
              "      <td>5.000000</td>\n",
              "      <td>2011-07-31 11:48:00</td>\n",
              "      <td>1.950000</td>\n",
              "      <td>15152.000000</td>\n",
              "    </tr>\n",
              "    <tr>\n",
              "      <th>75%</th>\n",
              "      <td>12.000000</td>\n",
              "      <td>2011-10-20 13:06:00</td>\n",
              "      <td>3.750000</td>\n",
              "      <td>16791.000000</td>\n",
              "    </tr>\n",
              "    <tr>\n",
              "      <th>max</th>\n",
              "      <td>80995.000000</td>\n",
              "      <td>2011-12-09 12:50:00</td>\n",
              "      <td>38970.000000</td>\n",
              "      <td>18287.000000</td>\n",
              "    </tr>\n",
              "    <tr>\n",
              "      <th>std</th>\n",
              "      <td>248.693370</td>\n",
              "      <td>NaN</td>\n",
              "      <td>69.315162</td>\n",
              "      <td>1713.600303</td>\n",
              "    </tr>\n",
              "  </tbody>\n",
              "</table>\n",
              "</div>\n",
              "    <div class=\"colab-df-buttons\">\n",
              "\n",
              "  <div class=\"colab-df-container\">\n",
              "    <button class=\"colab-df-convert\" onclick=\"convertToInteractive('df-849305c5-676a-45d4-b992-bd005e7b72ad')\"\n",
              "            title=\"Convert this dataframe to an interactive table.\"\n",
              "            style=\"display:none;\">\n",
              "\n",
              "  <svg xmlns=\"http://www.w3.org/2000/svg\" height=\"24px\" viewBox=\"0 -960 960 960\">\n",
              "    <path d=\"M120-120v-720h720v720H120Zm60-500h600v-160H180v160Zm220 220h160v-160H400v160Zm0 220h160v-160H400v160ZM180-400h160v-160H180v160Zm440 0h160v-160H620v160ZM180-180h160v-160H180v160Zm440 0h160v-160H620v160Z\"/>\n",
              "  </svg>\n",
              "    </button>\n",
              "\n",
              "  <style>\n",
              "    .colab-df-container {\n",
              "      display:flex;\n",
              "      gap: 12px;\n",
              "    }\n",
              "\n",
              "    .colab-df-convert {\n",
              "      background-color: #E8F0FE;\n",
              "      border: none;\n",
              "      border-radius: 50%;\n",
              "      cursor: pointer;\n",
              "      display: none;\n",
              "      fill: #1967D2;\n",
              "      height: 32px;\n",
              "      padding: 0 0 0 0;\n",
              "      width: 32px;\n",
              "    }\n",
              "\n",
              "    .colab-df-convert:hover {\n",
              "      background-color: #E2EBFA;\n",
              "      box-shadow: 0px 1px 2px rgba(60, 64, 67, 0.3), 0px 1px 3px 1px rgba(60, 64, 67, 0.15);\n",
              "      fill: #174EA6;\n",
              "    }\n",
              "\n",
              "    .colab-df-buttons div {\n",
              "      margin-bottom: 4px;\n",
              "    }\n",
              "\n",
              "    [theme=dark] .colab-df-convert {\n",
              "      background-color: #3B4455;\n",
              "      fill: #D2E3FC;\n",
              "    }\n",
              "\n",
              "    [theme=dark] .colab-df-convert:hover {\n",
              "      background-color: #434B5C;\n",
              "      box-shadow: 0px 1px 3px 1px rgba(0, 0, 0, 0.15);\n",
              "      filter: drop-shadow(0px 1px 2px rgba(0, 0, 0, 0.3));\n",
              "      fill: #FFFFFF;\n",
              "    }\n",
              "  </style>\n",
              "\n",
              "    <script>\n",
              "      const buttonEl =\n",
              "        document.querySelector('#df-849305c5-676a-45d4-b992-bd005e7b72ad button.colab-df-convert');\n",
              "      buttonEl.style.display =\n",
              "        google.colab.kernel.accessAllowed ? 'block' : 'none';\n",
              "\n",
              "      async function convertToInteractive(key) {\n",
              "        const element = document.querySelector('#df-849305c5-676a-45d4-b992-bd005e7b72ad');\n",
              "        const dataTable =\n",
              "          await google.colab.kernel.invokeFunction('convertToInteractive',\n",
              "                                                    [key], {});\n",
              "        if (!dataTable) return;\n",
              "\n",
              "        const docLinkHtml = 'Like what you see? Visit the ' +\n",
              "          '<a target=\"_blank\" href=https://colab.research.google.com/notebooks/data_table.ipynb>data table notebook</a>'\n",
              "          + ' to learn more about interactive tables.';\n",
              "        element.innerHTML = '';\n",
              "        dataTable['output_type'] = 'display_data';\n",
              "        await google.colab.output.renderOutput(dataTable, element);\n",
              "        const docLink = document.createElement('div');\n",
              "        docLink.innerHTML = docLinkHtml;\n",
              "        element.appendChild(docLink);\n",
              "      }\n",
              "    </script>\n",
              "  </div>\n",
              "\n",
              "\n",
              "<div id=\"df-ad44a0b1-efbb-4c27-bec7-4cad169e7f20\">\n",
              "  <button class=\"colab-df-quickchart\" onclick=\"quickchart('df-ad44a0b1-efbb-4c27-bec7-4cad169e7f20')\"\n",
              "            title=\"Suggest charts\"\n",
              "            style=\"display:none;\">\n",
              "\n",
              "<svg xmlns=\"http://www.w3.org/2000/svg\" height=\"24px\"viewBox=\"0 0 24 24\"\n",
              "     width=\"24px\">\n",
              "    <g>\n",
              "        <path d=\"M19 3H5c-1.1 0-2 .9-2 2v14c0 1.1.9 2 2 2h14c1.1 0 2-.9 2-2V5c0-1.1-.9-2-2-2zM9 17H7v-7h2v7zm4 0h-2V7h2v10zm4 0h-2v-4h2v4z\"/>\n",
              "    </g>\n",
              "</svg>\n",
              "  </button>\n",
              "\n",
              "<style>\n",
              "  .colab-df-quickchart {\n",
              "      --bg-color: #E8F0FE;\n",
              "      --fill-color: #1967D2;\n",
              "      --hover-bg-color: #E2EBFA;\n",
              "      --hover-fill-color: #174EA6;\n",
              "      --disabled-fill-color: #AAA;\n",
              "      --disabled-bg-color: #DDD;\n",
              "  }\n",
              "\n",
              "  [theme=dark] .colab-df-quickchart {\n",
              "      --bg-color: #3B4455;\n",
              "      --fill-color: #D2E3FC;\n",
              "      --hover-bg-color: #434B5C;\n",
              "      --hover-fill-color: #FFFFFF;\n",
              "      --disabled-bg-color: #3B4455;\n",
              "      --disabled-fill-color: #666;\n",
              "  }\n",
              "\n",
              "  .colab-df-quickchart {\n",
              "    background-color: var(--bg-color);\n",
              "    border: none;\n",
              "    border-radius: 50%;\n",
              "    cursor: pointer;\n",
              "    display: none;\n",
              "    fill: var(--fill-color);\n",
              "    height: 32px;\n",
              "    padding: 0;\n",
              "    width: 32px;\n",
              "  }\n",
              "\n",
              "  .colab-df-quickchart:hover {\n",
              "    background-color: var(--hover-bg-color);\n",
              "    box-shadow: 0 1px 2px rgba(60, 64, 67, 0.3), 0 1px 3px 1px rgba(60, 64, 67, 0.15);\n",
              "    fill: var(--button-hover-fill-color);\n",
              "  }\n",
              "\n",
              "  .colab-df-quickchart-complete:disabled,\n",
              "  .colab-df-quickchart-complete:disabled:hover {\n",
              "    background-color: var(--disabled-bg-color);\n",
              "    fill: var(--disabled-fill-color);\n",
              "    box-shadow: none;\n",
              "  }\n",
              "\n",
              "  .colab-df-spinner {\n",
              "    border: 2px solid var(--fill-color);\n",
              "    border-color: transparent;\n",
              "    border-bottom-color: var(--fill-color);\n",
              "    animation:\n",
              "      spin 1s steps(1) infinite;\n",
              "  }\n",
              "\n",
              "  @keyframes spin {\n",
              "    0% {\n",
              "      border-color: transparent;\n",
              "      border-bottom-color: var(--fill-color);\n",
              "      border-left-color: var(--fill-color);\n",
              "    }\n",
              "    20% {\n",
              "      border-color: transparent;\n",
              "      border-left-color: var(--fill-color);\n",
              "      border-top-color: var(--fill-color);\n",
              "    }\n",
              "    30% {\n",
              "      border-color: transparent;\n",
              "      border-left-color: var(--fill-color);\n",
              "      border-top-color: var(--fill-color);\n",
              "      border-right-color: var(--fill-color);\n",
              "    }\n",
              "    40% {\n",
              "      border-color: transparent;\n",
              "      border-right-color: var(--fill-color);\n",
              "      border-top-color: var(--fill-color);\n",
              "    }\n",
              "    60% {\n",
              "      border-color: transparent;\n",
              "      border-right-color: var(--fill-color);\n",
              "    }\n",
              "    80% {\n",
              "      border-color: transparent;\n",
              "      border-right-color: var(--fill-color);\n",
              "      border-bottom-color: var(--fill-color);\n",
              "    }\n",
              "    90% {\n",
              "      border-color: transparent;\n",
              "      border-bottom-color: var(--fill-color);\n",
              "    }\n",
              "  }\n",
              "</style>\n",
              "\n",
              "  <script>\n",
              "    async function quickchart(key) {\n",
              "      const quickchartButtonEl =\n",
              "        document.querySelector('#' + key + ' button');\n",
              "      quickchartButtonEl.disabled = true;  // To prevent multiple clicks.\n",
              "      quickchartButtonEl.classList.add('colab-df-spinner');\n",
              "      try {\n",
              "        const charts = await google.colab.kernel.invokeFunction(\n",
              "            'suggestCharts', [key], {});\n",
              "      } catch (error) {\n",
              "        console.error('Error during call to suggestCharts:', error);\n",
              "      }\n",
              "      quickchartButtonEl.classList.remove('colab-df-spinner');\n",
              "      quickchartButtonEl.classList.add('colab-df-quickchart-complete');\n",
              "    }\n",
              "    (() => {\n",
              "      let quickchartButtonEl =\n",
              "        document.querySelector('#df-ad44a0b1-efbb-4c27-bec7-4cad169e7f20 button');\n",
              "      quickchartButtonEl.style.display =\n",
              "        google.colab.kernel.accessAllowed ? 'block' : 'none';\n",
              "    })();\n",
              "  </script>\n",
              "</div>\n",
              "\n",
              "    </div>\n",
              "  </div>\n"
            ],
            "application/vnd.google.colaboratory.intrinsic+json": {
              "type": "dataframe",
              "summary": "{\n  \"name\": \"df\",\n  \"rows\": 8,\n  \"fields\": [\n    {\n      \"column\": \"Quantity\",\n      \"properties\": {\n        \"dtype\": \"number\",\n        \"std\": 150196.5784237443,\n        \"min\": -80995.0,\n        \"max\": 406829.0,\n        \"num_unique_values\": 8,\n        \"samples\": [\n          12.06130339774205,\n          12.0,\n          406829.0\n        ],\n        \"semantic_type\": \"\",\n        \"description\": \"\"\n      }\n    },\n    {\n      \"column\": \"InvoiceDate\",\n      \"properties\": {\n        \"dtype\": \"date\",\n        \"min\": \"1970-01-01 00:00:00.000406829\",\n        \"max\": \"2011-12-09 12:50:00\",\n        \"num_unique_values\": 7,\n        \"samples\": [\n          \"406829\",\n          \"2011-07-10 16:30:57.879207424\",\n          \"2011-10-20 13:06:00\"\n        ],\n        \"semantic_type\": \"\",\n        \"description\": \"\"\n      }\n    },\n    {\n      \"column\": \"UnitPrice\",\n      \"properties\": {\n        \"dtype\": \"number\",\n        \"std\": 142516.92692975575,\n        \"min\": 0.0,\n        \"max\": 406829.0,\n        \"num_unique_values\": 8,\n        \"samples\": [\n          3.460471018536043,\n          3.75,\n          406829.0\n        ],\n        \"semantic_type\": \"\",\n        \"description\": \"\"\n      }\n    },\n    {\n      \"column\": \"CustomerID\",\n      \"properties\": {\n        \"dtype\": \"number\",\n        \"std\": 139204.16800694188,\n        \"min\": 1713.6003033216632,\n        \"max\": 406829.0,\n        \"num_unique_values\": 8,\n        \"samples\": [\n          15287.690570239585,\n          16791.0,\n          406829.0\n        ],\n        \"semantic_type\": \"\",\n        \"description\": \"\"\n      }\n    }\n  ]\n}"
            }
          },
          "metadata": {},
          "execution_count": 70
        }
      ]
    },
    {
      "cell_type": "markdown",
      "source": [
        "#### Os valores negativos nas colunas 'Quantity' e 'UnitPrice' possuem chances consideráveis de existirem valores com erro de inserção, e/ou possíveis transações que precisam ser melhor aprofundadas, ex.: devoluções, etc. Além disso, as colunas estão com alta dispersão na maioria delas, indicando alta variabilidade dos dados."
      ],
      "metadata": {
        "id": "UM55vsQ3dsFa"
      }
    },
    {
      "cell_type": "code",
      "source": [
        "neg_quantity = df[df['Quantity'] < 0]\n",
        "print(neg_quantity)"
      ],
      "metadata": {
        "colab": {
          "base_uri": "https://localhost:8080/"
        },
        "id": "4-Fp4MVcaTQJ",
        "outputId": "b08e5686-0f16-428b-8afe-036ece1699ea"
      },
      "execution_count": 71,
      "outputs": [
        {
          "output_type": "stream",
          "name": "stdout",
          "text": [
            "       InvoiceNo StockCode                       Description  Quantity  \\\n",
            "141      C536379         D                          Discount        -1   \n",
            "154      C536383    35004C   SET OF 3 COLOURED  FLYING DUCKS        -1   \n",
            "235      C536391     22556    PLASTERS IN TIN CIRCUS PARADE        -12   \n",
            "236      C536391     21984  PACK OF 12 PINK PAISLEY TISSUES        -24   \n",
            "237      C536391     21983  PACK OF 12 BLUE PAISLEY TISSUES        -24   \n",
            "...          ...       ...                               ...       ...   \n",
            "540449   C581490     23144   ZINC T-LIGHT HOLDER STARS SMALL       -11   \n",
            "541541   C581499         M                            Manual        -1   \n",
            "541715   C581568     21258        VICTORIAN SEWING BOX LARGE        -5   \n",
            "541716   C581569     84978  HANGING HEART JAR T-LIGHT HOLDER        -1   \n",
            "541717   C581569     20979     36 PENCILS TUBE RED RETROSPOT        -5   \n",
            "\n",
            "               InvoiceDate  UnitPrice  CustomerID         Country  \n",
            "141    2010-12-01 09:41:00      27.50       14527  United Kingdom  \n",
            "154    2010-12-01 09:49:00       4.65       15311  United Kingdom  \n",
            "235    2010-12-01 10:24:00       1.65       17548  United Kingdom  \n",
            "236    2010-12-01 10:24:00       0.29       17548  United Kingdom  \n",
            "237    2010-12-01 10:24:00       0.29       17548  United Kingdom  \n",
            "...                    ...        ...         ...             ...  \n",
            "540449 2011-12-09 09:57:00       0.83       14397  United Kingdom  \n",
            "541541 2011-12-09 10:28:00     224.69       15498  United Kingdom  \n",
            "541715 2011-12-09 11:57:00      10.95       15311  United Kingdom  \n",
            "541716 2011-12-09 11:58:00       1.25       17315  United Kingdom  \n",
            "541717 2011-12-09 11:58:00       1.25       17315  United Kingdom  \n",
            "\n",
            "[8905 rows x 8 columns]\n"
          ]
        }
      ]
    },
    {
      "cell_type": "code",
      "source": [
        "# Contagem de valores negativos\n",
        "qt_neg_quantity = (df['Quantity'] <= 0).sum()\n",
        "qt_neg_unitprice = (df['UnitPrice'] <= 0).sum()\n",
        "\n",
        "print(f\"Quantidade de valores negativos em 'Quantity': {qt_neg_quantity}\")\n",
        "print(f\"Quantidade de valores negativos em 'UnitPrice': {qt_neg_unitprice}\")\n"
      ],
      "metadata": {
        "colab": {
          "base_uri": "https://localhost:8080/"
        },
        "id": "1eVDuA_tV4ZK",
        "outputId": "816ba539-712e-4fd7-d815-18ff7e975bfd"
      },
      "execution_count": 72,
      "outputs": [
        {
          "output_type": "stream",
          "name": "stdout",
          "text": [
            "Quantidade de valores negativos em 'Quantity': 8905\n",
            "Quantidade de valores negativos em 'UnitPrice': 40\n"
          ]
        }
      ]
    },
    {
      "cell_type": "code",
      "source": [
        "# Valores nulos por coluna\n",
        "\n",
        "print(df.isnull().sum())"
      ],
      "metadata": {
        "colab": {
          "base_uri": "https://localhost:8080/"
        },
        "id": "Lyqeuvcfge70",
        "outputId": "5f50ac0d-1e3d-4661-c8af-949f3a0a616e"
      },
      "execution_count": 73,
      "outputs": [
        {
          "output_type": "stream",
          "name": "stdout",
          "text": [
            "InvoiceNo      0\n",
            "StockCode      0\n",
            "Description    0\n",
            "Quantity       0\n",
            "InvoiceDate    0\n",
            "UnitPrice      0\n",
            "CustomerID     0\n",
            "Country        0\n",
            "dtype: int64\n"
          ]
        }
      ]
    },
    {
      "cell_type": "markdown",
      "source": [
        "#### Grande quantidade de valores nulos, impossibilitando o tratamento dos dados para este caso, pois, na coleta, não foram evidenciadas tratativas de solução ou alternativas para os valores nulos em questão."
      ],
      "metadata": {
        "id": "OUne0co087LX"
      }
    },
    {
      "cell_type": "code",
      "source": [
        "nulos_customerid = df[df['CustomerID'].isnull()]\n",
        "print(f' Linhas nulas da coluna CustomerID:')\n",
        "print(nulos_customerid)"
      ],
      "metadata": {
        "colab": {
          "base_uri": "https://localhost:8080/"
        },
        "id": "LtQHUUyvg2QJ",
        "outputId": "4d63f526-1369-4287-f75e-d8840665d96d"
      },
      "execution_count": 74,
      "outputs": [
        {
          "output_type": "stream",
          "name": "stdout",
          "text": [
            " Linhas nulas da coluna CustomerID:\n",
            "Empty DataFrame\n",
            "Columns: [InvoiceNo, StockCode, Description, Quantity, InvoiceDate, UnitPrice, CustomerID, Country]\n",
            "Index: []\n"
          ]
        }
      ]
    },
    {
      "cell_type": "markdown",
      "source": [
        "## 2 - Análise Exploratória"
      ],
      "metadata": {
        "id": "fgNI_XqXUX0A"
      }
    },
    {
      "cell_type": "markdown",
      "source": [
        "### 2.1 - Removendo dados nulos e afins"
      ],
      "metadata": {
        "id": "Dv5HYRpr-Z-I"
      }
    },
    {
      "cell_type": "code",
      "source": [
        "# Removendo os dados nulos das colunas: CustomerID e Description, sendo:\n",
        "\n",
        "# Description      1454\n",
        "# CustomerID     135080\n",
        "\n",
        "df = df.dropna(subset=['CustomerID', 'Description'])\n",
        "df.info()\n"
      ],
      "metadata": {
        "colab": {
          "base_uri": "https://localhost:8080/"
        },
        "id": "I65NuR86-kZn",
        "outputId": "c6e07a62-2d3c-42c4-8d31-8df97ffdc222"
      },
      "execution_count": 75,
      "outputs": [
        {
          "output_type": "stream",
          "name": "stdout",
          "text": [
            "<class 'pandas.core.frame.DataFrame'>\n",
            "Index: 406829 entries, 0 to 541908\n",
            "Data columns (total 8 columns):\n",
            " #   Column       Non-Null Count   Dtype         \n",
            "---  ------       --------------   -----         \n",
            " 0   InvoiceNo    406829 non-null  object        \n",
            " 1   StockCode    406829 non-null  object        \n",
            " 2   Description  406829 non-null  object        \n",
            " 3   Quantity     406829 non-null  int64         \n",
            " 4   InvoiceDate  406829 non-null  datetime64[ns]\n",
            " 5   UnitPrice    406829 non-null  float64       \n",
            " 6   CustomerID   406829 non-null  int64         \n",
            " 7   Country      406829 non-null  object        \n",
            "dtypes: datetime64[ns](1), float64(1), int64(2), object(4)\n",
            "memory usage: 27.9+ MB\n"
          ]
        }
      ]
    },
    {
      "cell_type": "code",
      "source": [
        "# Confirmação da ausência de valores nulos e na - pós tratamento:\n",
        "print(f'Quantidade de valores null (nulos):\\n{df.isnull().sum()}')\n",
        "print('\\n')\n",
        "print(f'Quantidade de valores na (não aplicáveis):\\n{df.isna().sum()}')"
      ],
      "metadata": {
        "colab": {
          "base_uri": "https://localhost:8080/"
        },
        "id": "J-3_vP6mALhK",
        "outputId": "6baebf4f-e4ac-4a83-9c4e-5dfcad741402"
      },
      "execution_count": 76,
      "outputs": [
        {
          "output_type": "stream",
          "name": "stdout",
          "text": [
            "Quantidade de valores null (nulos):\n",
            "InvoiceNo      0\n",
            "StockCode      0\n",
            "Description    0\n",
            "Quantity       0\n",
            "InvoiceDate    0\n",
            "UnitPrice      0\n",
            "CustomerID     0\n",
            "Country        0\n",
            "dtype: int64\n",
            "\n",
            "\n",
            "Quantidade de valores na (não aplicáveis):\n",
            "InvoiceNo      0\n",
            "StockCode      0\n",
            "Description    0\n",
            "Quantity       0\n",
            "InvoiceDate    0\n",
            "UnitPrice      0\n",
            "CustomerID     0\n",
            "Country        0\n",
            "dtype: int64\n"
          ]
        }
      ]
    },
    {
      "cell_type": "markdown",
      "source": [
        "### 2.2 - Filtrando valores"
      ],
      "metadata": {
        "id": "vGL31m3hDBLr"
      }
    },
    {
      "cell_type": "code",
      "source": [
        "df_filter_quantity = df[df['Quantity'] <= 0]\n",
        "print(df_filter_quantity)\n",
        "\n",
        "# 8905 valores menores ou iguais a zero, da coluna 'Quantity'"
      ],
      "metadata": {
        "colab": {
          "base_uri": "https://localhost:8080/"
        },
        "id": "FSBpOuzfDA0e",
        "outputId": "b16bfbc6-e42e-45b6-89d4-a7c0e1ba496f"
      },
      "execution_count": 77,
      "outputs": [
        {
          "output_type": "stream",
          "name": "stdout",
          "text": [
            "       InvoiceNo StockCode                       Description  Quantity  \\\n",
            "141      C536379         D                          Discount        -1   \n",
            "154      C536383    35004C   SET OF 3 COLOURED  FLYING DUCKS        -1   \n",
            "235      C536391     22556    PLASTERS IN TIN CIRCUS PARADE        -12   \n",
            "236      C536391     21984  PACK OF 12 PINK PAISLEY TISSUES        -24   \n",
            "237      C536391     21983  PACK OF 12 BLUE PAISLEY TISSUES        -24   \n",
            "...          ...       ...                               ...       ...   \n",
            "540449   C581490     23144   ZINC T-LIGHT HOLDER STARS SMALL       -11   \n",
            "541541   C581499         M                            Manual        -1   \n",
            "541715   C581568     21258        VICTORIAN SEWING BOX LARGE        -5   \n",
            "541716   C581569     84978  HANGING HEART JAR T-LIGHT HOLDER        -1   \n",
            "541717   C581569     20979     36 PENCILS TUBE RED RETROSPOT        -5   \n",
            "\n",
            "               InvoiceDate  UnitPrice  CustomerID         Country  \n",
            "141    2010-12-01 09:41:00      27.50       14527  United Kingdom  \n",
            "154    2010-12-01 09:49:00       4.65       15311  United Kingdom  \n",
            "235    2010-12-01 10:24:00       1.65       17548  United Kingdom  \n",
            "236    2010-12-01 10:24:00       0.29       17548  United Kingdom  \n",
            "237    2010-12-01 10:24:00       0.29       17548  United Kingdom  \n",
            "...                    ...        ...         ...             ...  \n",
            "540449 2011-12-09 09:57:00       0.83       14397  United Kingdom  \n",
            "541541 2011-12-09 10:28:00     224.69       15498  United Kingdom  \n",
            "541715 2011-12-09 11:57:00      10.95       15311  United Kingdom  \n",
            "541716 2011-12-09 11:58:00       1.25       17315  United Kingdom  \n",
            "541717 2011-12-09 11:58:00       1.25       17315  United Kingdom  \n",
            "\n",
            "[8905 rows x 8 columns]\n"
          ]
        }
      ]
    },
    {
      "cell_type": "code",
      "source": [
        "df_filter_unitprice = df[df['UnitPrice'] <= 0]\n",
        "print(df_filter_unitprice)\n",
        "\n",
        "# 40 valores menores ou iguais a zero, da coluna 'UnitPrice'"
      ],
      "metadata": {
        "colab": {
          "base_uri": "https://localhost:8080/"
        },
        "id": "0oyLdJmCEGrp",
        "outputId": "e75f25bb-317d-477a-9549-32902cac6ea3"
      },
      "execution_count": 78,
      "outputs": [
        {
          "output_type": "stream",
          "name": "stdout",
          "text": [
            "       InvoiceNo StockCode                          Description  Quantity  \\\n",
            "9302      537197     22841         ROUND CAKE TIN VINTAGE GREEN         1   \n",
            "33576     539263     22580         ADVENT CALENDAR GINGHAM SACK         4   \n",
            "40089     539722     22423             REGENCY CAKESTAND 3 TIER        10   \n",
            "47068     540372     22090              PAPER BUNTING RETROSPOT        24   \n",
            "47070     540372     22553               PLASTERS IN TIN SKULLS        24   \n",
            "56674     541109     22168        ORGANISER WOOD ANTIQUE WHITE          1   \n",
            "86789     543599    84535B         FAIRY CAKES NOTEBOOK A6 SIZE        16   \n",
            "130188    547417     22062  CERAMIC BOWL WITH LOVE HEART DESIGN        36   \n",
            "139453    548318     22055   MINI CAKE STAND  HANGING STRAWBERY         5   \n",
            "145208    548871     22162          HEART GARLAND RUSTIC PADDED         2   \n",
            "157042    550188     22636   CHILDS BREAKFAST SET CIRCUS PARADE         1   \n",
            "187613    553000     47566                        PARTY BUNTING         4   \n",
            "198383    554037     22619            SET OF 6 SOLDIER SKITTLES        80   \n",
            "279324    561284     22167           OVAL WALL MIRROR DIAMANTE          1   \n",
            "282912    561669     22960             JAM MAKING SET WITH JARS        11   \n",
            "285657    561916         M                               Manual         1   \n",
            "298054    562973     23157           SET OF 6 NATIVITY MAGNETS        240   \n",
            "314745    564651     23270     SET OF 2 CERAMIC PAINTED HEARTS         96   \n",
            "314746    564651     23268  SET OF 2 CERAMIC CHRISTMAS REINDEER       192   \n",
            "314747    564651     22955             36 FOIL STAR CAKE CASES        144   \n",
            "314748    564651     21786                   POLKADOT RAIN HAT        144   \n",
            "358655    568158      PADS           PADS TO MATCH ALL CUSHIONS         1   \n",
            "361825    568384         M                               Manual         1   \n",
            "379913    569716     22778                   GLASS CLOCHE SMALL         2   \n",
            "395529    571035         M                               Manual         1   \n",
            "420404    572893     21208          PASTEL COLOUR HONEYCOMB FAN         5   \n",
            "436428    574138     23234        BISCUIT TIN VINTAGE CHRISTMAS       216   \n",
            "436597    574175     22065       CHRISTMAS PUDDING TRINKET POT         12   \n",
            "436961    574252         M                               Manual         1   \n",
            "439361    574469     22385            JUMBO BAG SPACEBOY DESIGN        12   \n",
            "446125    574879     22625                   RED KITCHEN SCALES         2   \n",
            "446793    574920     22899         CHILDREN'S APRON DOLLY GIRL          1   \n",
            "446794    574920     23480       MINI LIGHTS WOODLAND MUSHROOMS         1   \n",
            "454463    575579     22437        SET OF 9 BLACK SKULL BALLOONS        20   \n",
            "454464    575579     22089        PAPER BUNTING VINTAGE PAISLEY        24   \n",
            "479079    577129     22464          HANGING METAL HEART LANTERN         4   \n",
            "479546    577168         M                               Manual         1   \n",
            "480649    577314     23407       SET OF 2 TRAYS HOME SWEET HOME         2   \n",
            "485985    577696         M                               Manual         1   \n",
            "502122    578841     84826       ASSTD DESIGN 3D PAPER STICKERS     12540   \n",
            "\n",
            "               InvoiceDate  UnitPrice  CustomerID         Country  \n",
            "9302   2010-12-05 14:02:00        0.0       12647         Germany  \n",
            "33576  2010-12-16 14:36:00        0.0       16560  United Kingdom  \n",
            "40089  2010-12-21 13:45:00        0.0       14911            EIRE  \n",
            "47068  2011-01-06 16:41:00        0.0       13081  United Kingdom  \n",
            "47070  2011-01-06 16:41:00        0.0       13081  United Kingdom  \n",
            "56674  2011-01-13 15:10:00        0.0       15107  United Kingdom  \n",
            "86789  2011-02-10 13:08:00        0.0       17560  United Kingdom  \n",
            "130188 2011-03-23 10:25:00        0.0       13239  United Kingdom  \n",
            "139453 2011-03-30 12:45:00        0.0       13113  United Kingdom  \n",
            "145208 2011-04-04 14:42:00        0.0       14410  United Kingdom  \n",
            "157042 2011-04-14 18:57:00        0.0       12457     Switzerland  \n",
            "187613 2011-05-12 15:21:00        0.0       17667  United Kingdom  \n",
            "198383 2011-05-20 14:13:00        0.0       12415       Australia  \n",
            "279324 2011-07-26 12:24:00        0.0       16818  United Kingdom  \n",
            "282912 2011-07-28 17:09:00        0.0       12507           Spain  \n",
            "285657 2011-08-01 11:44:00        0.0       15581  United Kingdom  \n",
            "298054 2011-08-11 11:42:00        0.0       14911            EIRE  \n",
            "314745 2011-08-26 14:19:00        0.0       14646     Netherlands  \n",
            "314746 2011-08-26 14:19:00        0.0       14646     Netherlands  \n",
            "314747 2011-08-26 14:19:00        0.0       14646     Netherlands  \n",
            "314748 2011-08-26 14:19:00        0.0       14646     Netherlands  \n",
            "358655 2011-09-25 12:22:00        0.0       16133  United Kingdom  \n",
            "361825 2011-09-27 09:46:00        0.0       12748  United Kingdom  \n",
            "379913 2011-10-06 08:17:00        0.0       15804  United Kingdom  \n",
            "395529 2011-10-13 12:50:00        0.0       12446             RSA  \n",
            "420404 2011-10-26 14:36:00        0.0       18059  United Kingdom  \n",
            "436428 2011-11-03 11:26:00        0.0       12415       Australia  \n",
            "436597 2011-11-03 11:47:00        0.0       14110  United Kingdom  \n",
            "436961 2011-11-03 13:24:00        0.0       12437          France  \n",
            "439361 2011-11-04 11:55:00        0.0       12431       Australia  \n",
            "446125 2011-11-07 13:22:00        0.0       13014  United Kingdom  \n",
            "446793 2011-11-07 16:34:00        0.0       13985  United Kingdom  \n",
            "446794 2011-11-07 16:34:00        0.0       13985  United Kingdom  \n",
            "454463 2011-11-10 11:49:00        0.0       13081  United Kingdom  \n",
            "454464 2011-11-10 11:49:00        0.0       13081  United Kingdom  \n",
            "479079 2011-11-17 19:52:00        0.0       15602  United Kingdom  \n",
            "479546 2011-11-18 10:42:00        0.0       12603         Germany  \n",
            "480649 2011-11-18 13:23:00        0.0       12444          Norway  \n",
            "485985 2011-11-21 11:57:00        0.0       16406  United Kingdom  \n",
            "502122 2011-11-25 15:57:00        0.0       13256  United Kingdom  \n"
          ]
        }
      ]
    },
    {
      "cell_type": "code",
      "source": [
        "df_filter_quantity.info() # 8905 valores menores ou iguais a zero\n",
        "print('\\n')\n",
        "df_filter_unitprice.info() # 40 valores menores ou iguais a zero\n",
        "\n",
        "# 8945 valores menores ou iguais a zero (total)"
      ],
      "metadata": {
        "colab": {
          "base_uri": "https://localhost:8080/"
        },
        "id": "7SrsNLjhKEi0",
        "outputId": "50b899bc-348b-4eca-e6f0-1cc631cee3e2"
      },
      "execution_count": 79,
      "outputs": [
        {
          "output_type": "stream",
          "name": "stdout",
          "text": [
            "<class 'pandas.core.frame.DataFrame'>\n",
            "Index: 8905 entries, 141 to 541717\n",
            "Data columns (total 8 columns):\n",
            " #   Column       Non-Null Count  Dtype         \n",
            "---  ------       --------------  -----         \n",
            " 0   InvoiceNo    8905 non-null   object        \n",
            " 1   StockCode    8905 non-null   object        \n",
            " 2   Description  8905 non-null   object        \n",
            " 3   Quantity     8905 non-null   int64         \n",
            " 4   InvoiceDate  8905 non-null   datetime64[ns]\n",
            " 5   UnitPrice    8905 non-null   float64       \n",
            " 6   CustomerID   8905 non-null   int64         \n",
            " 7   Country      8905 non-null   object        \n",
            "dtypes: datetime64[ns](1), float64(1), int64(2), object(4)\n",
            "memory usage: 626.1+ KB\n",
            "\n",
            "\n",
            "<class 'pandas.core.frame.DataFrame'>\n",
            "Index: 40 entries, 9302 to 502122\n",
            "Data columns (total 8 columns):\n",
            " #   Column       Non-Null Count  Dtype         \n",
            "---  ------       --------------  -----         \n",
            " 0   InvoiceNo    40 non-null     object        \n",
            " 1   StockCode    40 non-null     object        \n",
            " 2   Description  40 non-null     object        \n",
            " 3   Quantity     40 non-null     int64         \n",
            " 4   InvoiceDate  40 non-null     datetime64[ns]\n",
            " 5   UnitPrice    40 non-null     float64       \n",
            " 6   CustomerID   40 non-null     int64         \n",
            " 7   Country      40 non-null     object        \n",
            "dtypes: datetime64[ns](1), float64(1), int64(2), object(4)\n",
            "memory usage: 2.8+ KB\n"
          ]
        }
      ]
    },
    {
      "cell_type": "code",
      "source": [
        "# Filtro de ambas as colunas, com valores maiores que zero\n",
        "\n",
        "df_filter_qt_price = df[(df['Quantity'] > 0) | (df['UnitPrice'] > 0)]\n",
        "print(df_filter_qt_price)\n"
      ],
      "metadata": {
        "colab": {
          "base_uri": "https://localhost:8080/"
        },
        "id": "aqXaXostQI7v",
        "outputId": "9e0f45b6-2a9c-4a05-a086-416bdbd957b6"
      },
      "execution_count": 80,
      "outputs": [
        {
          "output_type": "stream",
          "name": "stdout",
          "text": [
            "       InvoiceNo StockCode                          Description  Quantity  \\\n",
            "0         536365    85123A   WHITE HANGING HEART T-LIGHT HOLDER         6   \n",
            "1         536365     71053                  WHITE METAL LANTERN         6   \n",
            "2         536365    84406B       CREAM CUPID HEARTS COAT HANGER         8   \n",
            "3         536365    84029G  KNITTED UNION FLAG HOT WATER BOTTLE         6   \n",
            "4         536365    84029E       RED WOOLLY HOTTIE WHITE HEART.         6   \n",
            "...          ...       ...                                  ...       ...   \n",
            "541904    581587     22613          PACK OF 20 SPACEBOY NAPKINS        12   \n",
            "541905    581587     22899         CHILDREN'S APRON DOLLY GIRL          6   \n",
            "541906    581587     23254        CHILDRENS CUTLERY DOLLY GIRL          4   \n",
            "541907    581587     23255      CHILDRENS CUTLERY CIRCUS PARADE         4   \n",
            "541908    581587     22138        BAKING SET 9 PIECE RETROSPOT          3   \n",
            "\n",
            "               InvoiceDate  UnitPrice  CustomerID         Country  \n",
            "0      2010-12-01 08:26:00       2.55       17850  United Kingdom  \n",
            "1      2010-12-01 08:26:00       3.39       17850  United Kingdom  \n",
            "2      2010-12-01 08:26:00       2.75       17850  United Kingdom  \n",
            "3      2010-12-01 08:26:00       3.39       17850  United Kingdom  \n",
            "4      2010-12-01 08:26:00       3.39       17850  United Kingdom  \n",
            "...                    ...        ...         ...             ...  \n",
            "541904 2011-12-09 12:50:00       0.85       12680          France  \n",
            "541905 2011-12-09 12:50:00       2.10       12680          France  \n",
            "541906 2011-12-09 12:50:00       4.15       12680          France  \n",
            "541907 2011-12-09 12:50:00       4.15       12680          France  \n",
            "541908 2011-12-09 12:50:00       4.95       12680          France  \n",
            "\n",
            "[406829 rows x 8 columns]\n"
          ]
        }
      ]
    },
    {
      "cell_type": "code",
      "source": [
        "# 5225 valores duplicados\n",
        "\n",
        "df_duplicated_removed = df_filter_qt_price[df_filter_qt_price.duplicated()]\n",
        "print(df_duplicated_removed)"
      ],
      "metadata": {
        "colab": {
          "base_uri": "https://localhost:8080/"
        },
        "id": "ZdqU7Tj8RJ5s",
        "outputId": "9d7c455e-265f-438b-a5d7-bee57752c4cc"
      },
      "execution_count": 81,
      "outputs": [
        {
          "output_type": "stream",
          "name": "stdout",
          "text": [
            "       InvoiceNo StockCode                        Description  Quantity  \\\n",
            "517       536409     21866        UNION JACK FLAG LUGGAGE TAG         1   \n",
            "527       536409     22866      HAND WARMER SCOTTY DOG DESIGN         1   \n",
            "537       536409     22900    SET 2 TEA TOWELS I LOVE LONDON          1   \n",
            "539       536409     22111       SCOTTIE DOG HOT WATER BOTTLE         1   \n",
            "555       536412     22327  ROUND SNACK BOXES SET OF 4 SKULLS         1   \n",
            "...          ...       ...                                ...       ...   \n",
            "541675    581538     22068        BLACK PIRATE TREASURE CHEST         1   \n",
            "541689    581538     23318     BOX OF 6 MINI VINTAGE CRACKERS         1   \n",
            "541692    581538     22992             REVOLVER WOODEN RULER          1   \n",
            "541699    581538     22694                       WICKER STAR          1   \n",
            "541701    581538     23343       JUMBO BAG VINTAGE CHRISTMAS          1   \n",
            "\n",
            "               InvoiceDate  UnitPrice  CustomerID         Country  \n",
            "517    2010-12-01 11:45:00       1.25       17908  United Kingdom  \n",
            "527    2010-12-01 11:45:00       2.10       17908  United Kingdom  \n",
            "537    2010-12-01 11:45:00       2.95       17908  United Kingdom  \n",
            "539    2010-12-01 11:45:00       4.95       17908  United Kingdom  \n",
            "555    2010-12-01 11:49:00       2.95       17920  United Kingdom  \n",
            "...                    ...        ...         ...             ...  \n",
            "541675 2011-12-09 11:34:00       0.39       14446  United Kingdom  \n",
            "541689 2011-12-09 11:34:00       2.49       14446  United Kingdom  \n",
            "541692 2011-12-09 11:34:00       1.95       14446  United Kingdom  \n",
            "541699 2011-12-09 11:34:00       2.10       14446  United Kingdom  \n",
            "541701 2011-12-09 11:34:00       2.08       14446  United Kingdom  \n",
            "\n",
            "[5225 rows x 8 columns]\n"
          ]
        }
      ]
    },
    {
      "cell_type": "code",
      "source": [
        "# DataFrame após a remoção dos valores duplicados\n",
        "\n",
        "df_cleaned = df_filter_qt_price.drop_duplicates()\n",
        "print(df_cleaned)"
      ],
      "metadata": {
        "colab": {
          "base_uri": "https://localhost:8080/"
        },
        "id": "MVHi2qGtT8z2",
        "outputId": "18569c4f-83a7-4765-dbc9-48e00703764a"
      },
      "execution_count": 82,
      "outputs": [
        {
          "output_type": "stream",
          "name": "stdout",
          "text": [
            "       InvoiceNo StockCode                          Description  Quantity  \\\n",
            "0         536365    85123A   WHITE HANGING HEART T-LIGHT HOLDER         6   \n",
            "1         536365     71053                  WHITE METAL LANTERN         6   \n",
            "2         536365    84406B       CREAM CUPID HEARTS COAT HANGER         8   \n",
            "3         536365    84029G  KNITTED UNION FLAG HOT WATER BOTTLE         6   \n",
            "4         536365    84029E       RED WOOLLY HOTTIE WHITE HEART.         6   \n",
            "...          ...       ...                                  ...       ...   \n",
            "541904    581587     22613          PACK OF 20 SPACEBOY NAPKINS        12   \n",
            "541905    581587     22899         CHILDREN'S APRON DOLLY GIRL          6   \n",
            "541906    581587     23254        CHILDRENS CUTLERY DOLLY GIRL          4   \n",
            "541907    581587     23255      CHILDRENS CUTLERY CIRCUS PARADE         4   \n",
            "541908    581587     22138        BAKING SET 9 PIECE RETROSPOT          3   \n",
            "\n",
            "               InvoiceDate  UnitPrice  CustomerID         Country  \n",
            "0      2010-12-01 08:26:00       2.55       17850  United Kingdom  \n",
            "1      2010-12-01 08:26:00       3.39       17850  United Kingdom  \n",
            "2      2010-12-01 08:26:00       2.75       17850  United Kingdom  \n",
            "3      2010-12-01 08:26:00       3.39       17850  United Kingdom  \n",
            "4      2010-12-01 08:26:00       3.39       17850  United Kingdom  \n",
            "...                    ...        ...         ...             ...  \n",
            "541904 2011-12-09 12:50:00       0.85       12680          France  \n",
            "541905 2011-12-09 12:50:00       2.10       12680          France  \n",
            "541906 2011-12-09 12:50:00       4.15       12680          France  \n",
            "541907 2011-12-09 12:50:00       4.15       12680          France  \n",
            "541908 2011-12-09 12:50:00       4.95       12680          France  \n",
            "\n",
            "[401604 rows x 8 columns]\n"
          ]
        }
      ]
    },
    {
      "cell_type": "code",
      "source": [
        "# Remoção dos outliers extremos em que a quantidade do item na compra é superior a 10.000, e o preço unitário é maior que 5.000.\n",
        "\n",
        "df_cleaned_filter = df_cleaned[(df_cleaned['Quantity'] <= 10000) & (df_cleaned['UnitPrice'] <= 5000)]\n",
        "print(df_cleaned_filter)\n",
        "print('\\n')\n",
        "df_cleaned_filter.info()\n"
      ],
      "metadata": {
        "colab": {
          "base_uri": "https://localhost:8080/"
        },
        "id": "LTh1speLfbw8",
        "outputId": "31018f23-2d3f-4345-8add-36f3fc5e2a23"
      },
      "execution_count": 83,
      "outputs": [
        {
          "output_type": "stream",
          "name": "stdout",
          "text": [
            "       InvoiceNo StockCode                          Description  Quantity  \\\n",
            "0         536365    85123A   WHITE HANGING HEART T-LIGHT HOLDER         6   \n",
            "1         536365     71053                  WHITE METAL LANTERN         6   \n",
            "2         536365    84406B       CREAM CUPID HEARTS COAT HANGER         8   \n",
            "3         536365    84029G  KNITTED UNION FLAG HOT WATER BOTTLE         6   \n",
            "4         536365    84029E       RED WOOLLY HOTTIE WHITE HEART.         6   \n",
            "...          ...       ...                                  ...       ...   \n",
            "541904    581587     22613          PACK OF 20 SPACEBOY NAPKINS        12   \n",
            "541905    581587     22899         CHILDREN'S APRON DOLLY GIRL          6   \n",
            "541906    581587     23254        CHILDRENS CUTLERY DOLLY GIRL          4   \n",
            "541907    581587     23255      CHILDRENS CUTLERY CIRCUS PARADE         4   \n",
            "541908    581587     22138        BAKING SET 9 PIECE RETROSPOT          3   \n",
            "\n",
            "               InvoiceDate  UnitPrice  CustomerID         Country  \n",
            "0      2010-12-01 08:26:00       2.55       17850  United Kingdom  \n",
            "1      2010-12-01 08:26:00       3.39       17850  United Kingdom  \n",
            "2      2010-12-01 08:26:00       2.75       17850  United Kingdom  \n",
            "3      2010-12-01 08:26:00       3.39       17850  United Kingdom  \n",
            "4      2010-12-01 08:26:00       3.39       17850  United Kingdom  \n",
            "...                    ...        ...         ...             ...  \n",
            "541904 2011-12-09 12:50:00       0.85       12680          France  \n",
            "541905 2011-12-09 12:50:00       2.10       12680          France  \n",
            "541906 2011-12-09 12:50:00       4.15       12680          France  \n",
            "541907 2011-12-09 12:50:00       4.15       12680          France  \n",
            "541908 2011-12-09 12:50:00       4.95       12680          France  \n",
            "\n",
            "[401604 rows x 8 columns]\n",
            "\n",
            "\n",
            "<class 'pandas.core.frame.DataFrame'>\n",
            "Index: 401604 entries, 0 to 541908\n",
            "Data columns (total 8 columns):\n",
            " #   Column       Non-Null Count   Dtype         \n",
            "---  ------       --------------   -----         \n",
            " 0   InvoiceNo    401604 non-null  object        \n",
            " 1   StockCode    401604 non-null  object        \n",
            " 2   Description  401604 non-null  object        \n",
            " 3   Quantity     401604 non-null  int64         \n",
            " 4   InvoiceDate  401604 non-null  datetime64[ns]\n",
            " 5   UnitPrice    401604 non-null  float64       \n",
            " 6   CustomerID   401604 non-null  int64         \n",
            " 7   Country      401604 non-null  object        \n",
            "dtypes: datetime64[ns](1), float64(1), int64(2), object(4)\n",
            "memory usage: 27.6+ MB\n"
          ]
        }
      ]
    },
    {
      "cell_type": "markdown",
      "source": [
        "## 3 - Modelagem"
      ],
      "metadata": {
        "id": "shzZqjVgUipD"
      }
    },
    {
      "cell_type": "markdown",
      "source": [
        "### 3.1 - Preparando os dados para análise mais avançadas"
      ],
      "metadata": {
        "id": "JelI9XtfktsW"
      }
    },
    {
      "cell_type": "code",
      "source": [
        "# Criação da coluna 'TotalPrice'\n",
        "\n",
        "df_cleaned_filter['TotalPrice'] = df_cleaned_filter['Quantity'] * df_cleaned_filter['UnitPrice']\n",
        "\n",
        "df_cleaned_filter = df_cleaned_filter[df_cleaned_filter['TotalPrice'] > 0]\n",
        "\n",
        "df_cleaned_filter.info()"
      ],
      "metadata": {
        "colab": {
          "base_uri": "https://localhost:8080/"
        },
        "id": "e7AGfz0yklrK",
        "outputId": "ea14a2c9-b4a8-4fdc-a4c2-f37b921f1d59"
      },
      "execution_count": 84,
      "outputs": [
        {
          "output_type": "stream",
          "name": "stdout",
          "text": [
            "<class 'pandas.core.frame.DataFrame'>\n",
            "Index: 392692 entries, 0 to 541908\n",
            "Data columns (total 9 columns):\n",
            " #   Column       Non-Null Count   Dtype         \n",
            "---  ------       --------------   -----         \n",
            " 0   InvoiceNo    392692 non-null  object        \n",
            " 1   StockCode    392692 non-null  object        \n",
            " 2   Description  392692 non-null  object        \n",
            " 3   Quantity     392692 non-null  int64         \n",
            " 4   InvoiceDate  392692 non-null  datetime64[ns]\n",
            " 5   UnitPrice    392692 non-null  float64       \n",
            " 6   CustomerID   392692 non-null  int64         \n",
            " 7   Country      392692 non-null  object        \n",
            " 8   TotalPrice   392692 non-null  float64       \n",
            "dtypes: datetime64[ns](1), float64(2), int64(2), object(4)\n",
            "memory usage: 30.0+ MB\n"
          ]
        }
      ]
    },
    {
      "cell_type": "code",
      "source": [
        "# Data da última compra\n",
        "\n",
        "data_primeira_compra = df_cleaned_filter['InvoiceDate'].min()\n",
        "print(data_primeira_compra)\n",
        "\n",
        "data_ultima_compra = df_cleaned_filter['InvoiceDate'].max()\n",
        "print(data_ultima_compra)\n",
        "\n"
      ],
      "metadata": {
        "colab": {
          "base_uri": "https://localhost:8080/"
        },
        "id": "22ca0xaNl-Sf",
        "outputId": "854418ea-bc9f-4a7f-9614-de518cde4388"
      },
      "execution_count": 85,
      "outputs": [
        {
          "output_type": "stream",
          "name": "stdout",
          "text": [
            "2010-12-01 08:26:00\n",
            "2011-12-09 12:50:00\n"
          ]
        }
      ]
    },
    {
      "cell_type": "markdown",
      "source": [
        "### 3.2 - Plotando Gráficos\n",
        "\n",
        "- Top 10 países com maior valor em vendas\n",
        "- Top 10 produtos mais vendidos\n",
        "- Valor de venda total por mês\n",
        "- Valor de venda total por mês e por país (considere apenas os top 10)"
      ],
      "metadata": {
        "id": "wc0K6aw-qKJx"
      }
    },
    {
      "cell_type": "markdown",
      "source": [
        "#### 3.2.1 - Bibliotecas de Análises Gráficas"
      ],
      "metadata": {
        "id": "cTjFo-c_q-z0"
      }
    },
    {
      "cell_type": "code",
      "source": [
        "import seaborn as sns\n",
        "import matplotlib.pyplot as plt\n",
        "import plotly.express as px\n",
        "import altair as alt\n",
        "import locale"
      ],
      "metadata": {
        "id": "rbr5yw6cqWAU"
      },
      "execution_count": 86,
      "outputs": []
    },
    {
      "cell_type": "code",
      "source": [
        "top10_pais_vendas = df_cleaned_filter.groupby('Country')['TotalPrice'].sum().nlargest(10)\n",
        "\n",
        "sns.barplot(x=top10_pais_vendas.values, y=top10_pais_vendas.index)\n",
        "plt.xlabel('Total de Vendas')\n",
        "plt.ylabel('País')\n",
        "plt.title('Top 10 países com maior valor em vendas')\n",
        "plt.show()"
      ],
      "metadata": {
        "colab": {
          "base_uri": "https://localhost:8080/",
          "height": 472
        },
        "id": "1BW9o3FRrWZL",
        "outputId": "6c5300ff-9698-4a65-c913-0f1870f20d3c"
      },
      "execution_count": 87,
      "outputs": [
        {
          "output_type": "display_data",
          "data": {
            "text/plain": [
              "<Figure size 640x480 with 1 Axes>"
            ],
            "image/png": "[encoded data removed]"
          },
          "metadata": {}
        }
      ]
    },
    {
      "cell_type": "code",
      "source": [
        "top10_produtos_vendas = df_cleaned_filter.groupby('Description')['Quantity'].sum().nlargest(10)\n",
        "\n",
        "sns.barplot(x=top10_produtos_vendas.values, y=top10_produtos_vendas.index)\n",
        "plt.xlabel('Quantidade de Vendas')\n",
        "plt.ylabel('Produtos')\n",
        "plt.title('Top 10 produtos mais vendidos')\n",
        "plt.show()"
      ],
      "metadata": {
        "colab": {
          "base_uri": "https://localhost:8080/",
          "height": 472
        },
        "id": "dnSqr-fCtdWH",
        "outputId": "6bd7e129-adb9-42ef-e2b1-672c0bca5e38"
      },
      "execution_count": 88,
      "outputs": [
        {
          "output_type": "display_data",
          "data": {
            "text/plain": [
              "<Figure size 640x480 with 1 Axes>"
            ],
            "image/png": "[encoded data removed]"
          },
          "metadata": {}
        }
      ]
    },
    {
      "cell_type": "code",
      "source": [
        "df_cleaned_filter['Month'] = df_cleaned_filter['InvoiceDate'].dt.strftime('%Y-%m')\n",
        "\n",
        "# Faturamento/mês\n",
        "sales_per_month = df_cleaned_filter.groupby('Month')['TotalPrice'].sum().reset_index()\n",
        "\n",
        "sales_per_month = sales_per_month.sort_values('Month')\n",
        "\n",
        "# Plotar gráfico\n",
        "plt.figure(figsize=(10, 5))\n",
        "sns.lineplot(x='Month', y='TotalPrice', data=sales_per_month, marker='o', linestyle='-')\n",
        "\n",
        "\n",
        "plt.xticks(rotation=45)  # Rotacionar os meses para melhor leitura\n",
        "plt.xlabel('Mês')\n",
        "plt.ylabel('Faturamento Total')\n",
        "plt.title('Faturamento por Mês')\n",
        "plt.grid(True)\n",
        "\n",
        "# 7. Exibir gráfico\n",
        "plt.show()\n"
      ],
      "metadata": {
        "colab": {
          "base_uri": "https://localhost:8080/",
          "height": 524
        },
        "id": "D-9Kdef7uePD",
        "outputId": "dbe8a9c5-b9a0-46b7-cbd4-546c943a0f1f"
      },
      "execution_count": 89,
      "outputs": [
        {
          "output_type": "display_data",
          "data": {
            "text/plain": [
              "<Figure size 1000x500 with 1 Axes>"
            ],
            "image/png": "[encoded data removed]"
          },
          "metadata": {}
        }
      ]
    },
    {
      "cell_type": "code",
      "source": [
        "df_cleaned_filter['InvoiceDate'] = pd.to_datetime(df_cleaned_filter['InvoiceDate'])\n",
        "\n",
        "df_cleaned_filter['Month'] = df_cleaned_filter['InvoiceDate'].dt.to_period('M')\n",
        "\n",
        "total_sales_by_month_country = df_cleaned_filter.groupby(['Month', 'Country'])['TotalPrice'].sum().reset_index()\n",
        "\n",
        "top_10_countries = total_sales_by_month_country.groupby('Country')['TotalPrice'].sum().nlargest(10).index\n",
        "\n",
        "# Filtrar para considerar apenas os top 10 países\n",
        "top_10_sales = total_sales_by_month_country[total_sales_by_month_country['Country'].isin(top_10_countries)]\n",
        "\n",
        "# Criar gráfico\n",
        "plt.figure(figsize=(12, 6))\n",
        "for country in top_10_countries:\n",
        "    country_data = top_10_sales[top_10_sales['Country'] == country]\n",
        "    plt.plot(country_data['Month'].astype(str), country_data['TotalPrice'], label=country)\n",
        "\n",
        "plt.xticks(rotation=45)\n",
        "plt.xlabel('Mês')\n",
        "plt.ylabel('Valor Total de Vendas')\n",
        "plt.title('Valor Total de Vendas por Mês e País (Top 10)')\n",
        "plt.legend(title='País')\n",
        "plt.tight_layout()\n",
        "plt.show()"
      ],
      "metadata": {
        "colab": {
          "base_uri": "https://localhost:8080/",
          "height": 607
        },
        "id": "P87GFM4Zz2IP",
        "outputId": "8c762941-d1cd-4f55-bfe8-5aaf25e868bb"
      },
      "execution_count": 90,
      "outputs": [
        {
          "output_type": "display_data",
          "data": {
            "text/plain": [
              "<Figure size 1200x600 with 1 Axes>"
            ],
            "image/png": "[encoded data removed]"
          },
          "metadata": {}
        }
      ]
    },
    {
      "cell_type": "markdown",
      "source": [
        "## 4 - Calculo da Predição\n",
        "\n",
        "Recomendação: Dados por cliente e pedido/compra (InvoiceNo) e obtenha a data e o preço total do pedido.\n",
        "Ou seja, importante agrupar novamente apenas por cliente e calcular o RFM, onde:\n",
        "\n",
        "- R é a recência, diferença em dias da última compra do cliente e da última compra disponível no conjunto de dados, que calcularam previamente.\n",
        "- F é a frequência, ou seja, a quantidade de compras feitas pelo cliente;\n",
        "- M é o ticket médio, ou seja, a média das compras feitas pelo cliente."
      ],
      "metadata": {
        "id": "eppvviFDUppK"
      }
    },
    {
      "cell_type": "code",
      "source": [
        "rfm = df_cleaned_filter.groupby('CustomerID').agg(\n",
        "    Recency=('InvoiceDate', lambda x: (data_ultima_compra - x.max()).days),\n",
        "    Frequency=('InvoiceNo', 'count'),\n",
        "    Monetary=('TotalPrice', 'mean')\n",
        ").reset_index()\n",
        "\n",
        "rfm.describe()"
      ],
      "metadata": {
        "id": "BlJIKEPu2kPx",
        "colab": {
          "base_uri": "https://localhost:8080/",
          "height": 301
        },
        "outputId": "3aef8c54-e885-4c71-ae1e-55b76008538e"
      },
      "execution_count": 92,
      "outputs": [
        {
          "output_type": "execute_result",
          "data": {
            "text/plain": [
              "         CustomerID      Recency    Frequency      Monetary\n",
              "count   4338.000000  4338.000000  4338.000000   4338.000000\n",
              "mean   15300.408022    91.536422    90.523744     68.381590\n",
              "std     1721.808492   100.014169   225.506968   1467.918294\n",
              "min    12346.000000     0.000000     1.000000      2.136970\n",
              "25%    13813.250000    17.000000    17.000000     12.393196\n",
              "50%    15299.500000    50.000000    41.000000     17.755000\n",
              "75%    16778.750000   141.000000    98.000000     24.878950\n",
              "max    18287.000000   373.000000  7676.000000  77183.600000"
            ],
            "text/html": [
              "\n",
              "  <div id=\"df-55b015da-60c4-4f89-b7ae-060f24b7ea46\" class=\"colab-df-container\">\n",
              "    <div>\n",
              "<style scoped>\n",
              "    .dataframe tbody tr th:only-of-type {\n",
              "        vertical-align: middle;\n",
              "    }\n",
              "\n",
              "    .dataframe tbody tr th {\n",
              "        vertical-align: top;\n",
              "    }\n",
              "\n",
              "    .dataframe thead th {\n",
              "        text-align: right;\n",
              "    }\n",
              "</style>\n",
              "<table border=\"1\" class=\"dataframe\">\n",
              "  <thead>\n",
              "    <tr style=\"text-align: right;\">\n",
              "      <th></th>\n",
              "      <th>CustomerID</th>\n",
              "      <th>Recency</th>\n",
              "      <th>Frequency</th>\n",
              "      <th>Monetary</th>\n",
              "    </tr>\n",
              "  </thead>\n",
              "  <tbody>\n",
              "    <tr>\n",
              "      <th>count</th>\n",
              "      <td>4338.000000</td>\n",
              "      <td>4338.000000</td>\n",
              "      <td>4338.000000</td>\n",
              "      <td>4338.000000</td>\n",
              "    </tr>\n",
              "    <tr>\n",
              "      <th>mean</th>\n",
              "      <td>15300.408022</td>\n",
              "      <td>91.536422</td>\n",
              "      <td>90.523744</td>\n",
              "      <td>68.381590</td>\n",
              "    </tr>\n",
              "    <tr>\n",
              "      <th>std</th>\n",
              "      <td>1721.808492</td>\n",
              "      <td>100.014169</td>\n",
              "      <td>225.506968</td>\n",
              "      <td>1467.918294</td>\n",
              "    </tr>\n",
              "    <tr>\n",
              "      <th>min</th>\n",
              "      <td>12346.000000</td>\n",
              "      <td>0.000000</td>\n",
              "      <td>1.000000</td>\n",
              "      <td>2.136970</td>\n",
              "    </tr>\n",
              "    <tr>\n",
              "      <th>25%</th>\n",
              "      <td>13813.250000</td>\n",
              "      <td>17.000000</td>\n",
              "      <td>17.000000</td>\n",
              "      <td>12.393196</td>\n",
              "    </tr>\n",
              "    <tr>\n",
              "      <th>50%</th>\n",
              "      <td>15299.500000</td>\n",
              "      <td>50.000000</td>\n",
              "      <td>41.000000</td>\n",
              "      <td>17.755000</td>\n",
              "    </tr>\n",
              "    <tr>\n",
              "      <th>75%</th>\n",
              "      <td>16778.750000</td>\n",
              "      <td>141.000000</td>\n",
              "      <td>98.000000</td>\n",
              "      <td>24.878950</td>\n",
              "    </tr>\n",
              "    <tr>\n",
              "      <th>max</th>\n",
              "      <td>18287.000000</td>\n",
              "      <td>373.000000</td>\n",
              "      <td>7676.000000</td>\n",
              "      <td>77183.600000</td>\n",
              "    </tr>\n",
              "  </tbody>\n",
              "</table>\n",
              "</div>\n",
              "    <div class=\"colab-df-buttons\">\n",
              "\n",
              "  <div class=\"colab-df-container\">\n",
              "    <button class=\"colab-df-convert\" onclick=\"convertToInteractive('df-55b015da-60c4-4f89-b7ae-060f24b7ea46')\"\n",
              "            title=\"Convert this dataframe to an interactive table.\"\n",
              "            style=\"display:none;\">\n",
              "\n",
              "  <svg xmlns=\"http://www.w3.org/2000/svg\" height=\"24px\" viewBox=\"0 -960 960 960\">\n",
              "    <path d=\"M120-120v-720h720v720H120Zm60-500h600v-160H180v160Zm220 220h160v-160H400v160Zm0 220h160v-160H400v160ZM180-400h160v-160H180v160Zm440 0h160v-160H620v160ZM180-180h160v-160H180v160Zm440 0h160v-160H620v160Z\"/>\n",
              "  </svg>\n",
              "    </button>\n",
              "\n",
              "  <style>\n",
              "    .colab-df-container {\n",
              "      display:flex;\n",
              "      gap: 12px;\n",
              "    }\n",
              "\n",
              "    .colab-df-convert {\n",
              "      background-color: #E8F0FE;\n",
              "      border: none;\n",
              "      border-radius: 50%;\n",
              "      cursor: pointer;\n",
              "      display: none;\n",
              "      fill: #1967D2;\n",
              "      height: 32px;\n",
              "      padding: 0 0 0 0;\n",
              "      width: 32px;\n",
              "    }\n",
              "\n",
              "    .colab-df-convert:hover {\n",
              "      background-color: #E2EBFA;\n",
              "      box-shadow: 0px 1px 2px rgba(60, 64, 67, 0.3), 0px 1px 3px 1px rgba(60, 64, 67, 0.15);\n",
              "      fill: #174EA6;\n",
              "    }\n",
              "\n",
              "    .colab-df-buttons div {\n",
              "      margin-bottom: 4px;\n",
              "    }\n",
              "\n",
              "    [theme=dark] .colab-df-convert {\n",
              "      background-color: #3B4455;\n",
              "      fill: #D2E3FC;\n",
              "    }\n",
              "\n",
              "    [theme=dark] .colab-df-convert:hover {\n",
              "      background-color: #434B5C;\n",
              "      box-shadow: 0px 1px 3px 1px rgba(0, 0, 0, 0.15);\n",
              "      filter: drop-shadow(0px 1px 2px rgba(0, 0, 0, 0.3));\n",
              "      fill: #FFFFFF;\n",
              "    }\n",
              "  </style>\n",
              "\n",
              "    <script>\n",
              "      const buttonEl =\n",
              "        document.querySelector('#df-55b015da-60c4-4f89-b7ae-060f24b7ea46 button.colab-df-convert');\n",
              "      buttonEl.style.display =\n",
              "        google.colab.kernel.accessAllowed ? 'block' : 'none';\n",
              "\n",
              "      async function convertToInteractive(key) {\n",
              "        const element = document.querySelector('#df-55b015da-60c4-4f89-b7ae-060f24b7ea46');\n",
              "        const dataTable =\n",
              "          await google.colab.kernel.invokeFunction('convertToInteractive',\n",
              "                                                    [key], {});\n",
              "        if (!dataTable) return;\n",
              "\n",
              "        const docLinkHtml = 'Like what you see? Visit the ' +\n",
              "          '<a target=\"_blank\" href=https://colab.research.google.com/notebooks/data_table.ipynb>data table notebook</a>'\n",
              "          + ' to learn more about interactive tables.';\n",
              "        element.innerHTML = '';\n",
              "        dataTable['output_type'] = 'display_data';\n",
              "        await google.colab.output.renderOutput(dataTable, element);\n",
              "        const docLink = document.createElement('div');\n",
              "        docLink.innerHTML = docLinkHtml;\n",
              "        element.appendChild(docLink);\n",
              "      }\n",
              "    </script>\n",
              "  </div>\n",
              "\n",
              "\n",
              "<div id=\"df-894ae72c-037b-474c-9ec1-a78b99ef8f68\">\n",
              "  <button class=\"colab-df-quickchart\" onclick=\"quickchart('df-894ae72c-037b-474c-9ec1-a78b99ef8f68')\"\n",
              "            title=\"Suggest charts\"\n",
              "            style=\"display:none;\">\n",
              "\n",
              "<svg xmlns=\"http://www.w3.org/2000/svg\" height=\"24px\"viewBox=\"0 0 24 24\"\n",
              "     width=\"24px\">\n",
              "    <g>\n",
              "        <path d=\"M19 3H5c-1.1 0-2 .9-2 2v14c0 1.1.9 2 2 2h14c1.1 0 2-.9 2-2V5c0-1.1-.9-2-2-2zM9 17H7v-7h2v7zm4 0h-2V7h2v10zm4 0h-2v-4h2v4z\"/>\n",
              "    </g>\n",
              "</svg>\n",
              "  </button>\n",
              "\n",
              "<style>\n",
              "  .colab-df-quickchart {\n",
              "      --bg-color: #E8F0FE;\n",
              "      --fill-color: #1967D2;\n",
              "      --hover-bg-color: #E2EBFA;\n",
              "      --hover-fill-color: #174EA6;\n",
              "      --disabled-fill-color: #AAA;\n",
              "      --disabled-bg-color: #DDD;\n",
              "  }\n",
              "\n",
              "  [theme=dark] .colab-df-quickchart {\n",
              "      --bg-color: #3B4455;\n",
              "      --fill-color: #D2E3FC;\n",
              "      --hover-bg-color: #434B5C;\n",
              "      --hover-fill-color: #FFFFFF;\n",
              "      --disabled-bg-color: #3B4455;\n",
              "      --disabled-fill-color: #666;\n",
              "  }\n",
              "\n",
              "  .colab-df-quickchart {\n",
              "    background-color: var(--bg-color);\n",
              "    border: none;\n",
              "    border-radius: 50%;\n",
              "    cursor: pointer;\n",
              "    display: none;\n",
              "    fill: var(--fill-color);\n",
              "    height: 32px;\n",
              "    padding: 0;\n",
              "    width: 32px;\n",
              "  }\n",
              "\n",
              "  .colab-df-quickchart:hover {\n",
              "    background-color: var(--hover-bg-color);\n",
              "    box-shadow: 0 1px 2px rgba(60, 64, 67, 0.3), 0 1px 3px 1px rgba(60, 64, 67, 0.15);\n",
              "    fill: var(--button-hover-fill-color);\n",
              "  }\n",
              "\n",
              "  .colab-df-quickchart-complete:disabled,\n",
              "  .colab-df-quickchart-complete:disabled:hover {\n",
              "    background-color: var(--disabled-bg-color);\n",
              "    fill: var(--disabled-fill-color);\n",
              "    box-shadow: none;\n",
              "  }\n",
              "\n",
              "  .colab-df-spinner {\n",
              "    border: 2px solid var(--fill-color);\n",
              "    border-color: transparent;\n",
              "    border-bottom-color: var(--fill-color);\n",
              "    animation:\n",
              "      spin 1s steps(1) infinite;\n",
              "  }\n",
              "\n",
              "  @keyframes spin {\n",
              "    0% {\n",
              "      border-color: transparent;\n",
              "      border-bottom-color: var(--fill-color);\n",
              "      border-left-color: var(--fill-color);\n",
              "    }\n",
              "    20% {\n",
              "      border-color: transparent;\n",
              "      border-left-color: var(--fill-color);\n",
              "      border-top-color: var(--fill-color);\n",
              "    }\n",
              "    30% {\n",
              "      border-color: transparent;\n",
              "      border-left-color: var(--fill-color);\n",
              "      border-top-color: var(--fill-color);\n",
              "      border-right-color: var(--fill-color);\n",
              "    }\n",
              "    40% {\n",
              "      border-color: transparent;\n",
              "      border-right-color: var(--fill-color);\n",
              "      border-top-color: var(--fill-color);\n",
              "    }\n",
              "    60% {\n",
              "      border-color: transparent;\n",
              "      border-right-color: var(--fill-color);\n",
              "    }\n",
              "    80% {\n",
              "      border-color: transparent;\n",
              "      border-right-color: var(--fill-color);\n",
              "      border-bottom-color: var(--fill-color);\n",
              "    }\n",
              "    90% {\n",
              "      border-color: transparent;\n",
              "      border-bottom-color: var(--fill-color);\n",
              "    }\n",
              "  }\n",
              "</style>\n",
              "\n",
              "  <script>\n",
              "    async function quickchart(key) {\n",
              "      const quickchartButtonEl =\n",
              "        document.querySelector('#' + key + ' button');\n",
              "      quickchartButtonEl.disabled = true;  // To prevent multiple clicks.\n",
              "      quickchartButtonEl.classList.add('colab-df-spinner');\n",
              "      try {\n",
              "        const charts = await google.colab.kernel.invokeFunction(\n",
              "            'suggestCharts', [key], {});\n",
              "      } catch (error) {\n",
              "        console.error('Error during call to suggestCharts:', error);\n",
              "      }\n",
              "      quickchartButtonEl.classList.remove('colab-df-spinner');\n",
              "      quickchartButtonEl.classList.add('colab-df-quickchart-complete');\n",
              "    }\n",
              "    (() => {\n",
              "      let quickchartButtonEl =\n",
              "        document.querySelector('#df-894ae72c-037b-474c-9ec1-a78b99ef8f68 button');\n",
              "      quickchartButtonEl.style.display =\n",
              "        google.colab.kernel.accessAllowed ? 'block' : 'none';\n",
              "    })();\n",
              "  </script>\n",
              "</div>\n",
              "\n",
              "    </div>\n",
              "  </div>\n"
            ],
            "application/vnd.google.colaboratory.intrinsic+json": {
              "type": "dataframe",
              "summary": "{\n  \"name\": \"rfm\",\n  \"rows\": 8,\n  \"fields\": [\n    {\n      \"column\": \"CustomerID\",\n      \"properties\": {\n        \"dtype\": \"number\",\n        \"std\": 5993.487544532565,\n        \"min\": 1721.8084917653164,\n        \"max\": 18287.0,\n        \"num_unique_values\": 8,\n        \"samples\": [\n          15300.408022130014,\n          15299.5,\n          4338.0\n        ],\n        \"semantic_type\": \"\",\n        \"description\": \"\"\n      }\n    },\n    {\n      \"column\": \"Recency\",\n      \"properties\": {\n        \"dtype\": \"number\",\n        \"std\": 1499.2240294187145,\n        \"min\": 0.0,\n        \"max\": 4338.0,\n        \"num_unique_values\": 8,\n        \"samples\": [\n          91.53642231443061,\n          50.0,\n          4338.0\n        ],\n        \"semantic_type\": \"\",\n        \"description\": \"\"\n      }\n    },\n    {\n      \"column\": \"Frequency\",\n      \"properties\": {\n        \"dtype\": \"number\",\n        \"std\": 2886.399164088632,\n        \"min\": 1.0,\n        \"max\": 7676.0,\n        \"num_unique_values\": 8,\n        \"samples\": [\n          90.52374366067312,\n          41.0,\n          4338.0\n        ],\n        \"semantic_type\": \"\",\n        \"description\": \"\"\n      }\n    },\n    {\n      \"column\": \"Monetary\",\n      \"properties\": {\n        \"dtype\": \"number\",\n        \"std\": 27031.12669428051,\n        \"min\": 2.1369696969696967,\n        \"max\": 77183.6,\n        \"num_unique_values\": 8,\n        \"samples\": [\n          68.38158951287828,\n          17.755000000000003,\n          4338.0\n        ],\n        \"semantic_type\": \"\",\n        \"description\": \"\"\n      }\n    }\n  ]\n}"
            }
          },
          "metadata": {},
          "execution_count": 92
        }
      ]
    },
    {
      "cell_type": "markdown",
      "source": [
        "### 4.1 - Explicação estatística dos dados obtidos\n",
        "\n",
        "count → Número de clientes no conjunto de dados (4.338 clientes únicos).\n",
        "\n",
        "mean → Média dos valores de cada métrica.\n",
        "\n",
        "Recência média: 91 dias (tempo médio desde a última compra).\n",
        "\n",
        "Frequência média: 90 compras por cliente.\n",
        "\n",
        "Ticket médio: R$ 68,38 por cliente.\n",
        "\n",
        "std: A grande variação no Monetary (1467.92) indica que há clientes com valores de compra muito diferentes.\n",
        "\n",
        "min - rfm mínimo temos:\n",
        "- Recência = 0 dias (alguns clientes compraram na última data do dataset).\n",
        "- Frequência = 1 (clientes que compraram apenas uma vez).\n",
        "- Monetary mínimo = R$ 2,14.\n",
        "\n",
        "Quartis:\n",
        "- 25% (Q1) → 25% dos clientes fizeram no máximo 17 compras e gastaram até R$ 12,39.\n",
        "\n",
        "- 50% (Mediana) → Metade dos clientes compraram até 41 vezes e gastaram até R$ 17,76.\n",
        "\n",
        "- 75% (Q3) → 75% dos clientes fizeram até 98 compras e gastaram até R$ 24,88.\n",
        "\n",
        "max - rfm máximo temos:\n",
        "- Cliente mais ativo fez 7.676 compras! 🏆\n",
        "\n",
        "- Maior valor gasto: R$ 77.183,60! 💰\n",
        "\n",
        "Outros valores:\n",
        "\n",
        "- A Maior venda foi dos Estados Unidos, em novembro de 2011. Assim como, ganhou o título de maior faturamento histórico.\n",
        "- Produto mais vendido: Paper Craft - Little Birdie\n",
        "\n"
      ],
      "metadata": {
        "id": "dJpLoT7Ag_Ts"
      }
    },
    {
      "cell_type": "markdown",
      "source": [
        "### 4.2 - Planos de ação (Conclusão)\n",
        "\n",
        "Distribuição Desbalanceada\n",
        "\n",
        "Alguns clientes compram muito, enquanto outros compram pouco ou raramente.\n",
        "\n",
        "Soluções:\n",
        "\n",
        "* Criar estratégias personalizadas para cada segmento.\n",
        "* Segmentação de clientes com base no RFM para personalizar ofertas e comunicação.\n",
        "* Criar programas de fidelidade para incentivar compras mais frequentes.\n",
        "* Campanhas de reativação para clientes que compram pouco, assim como, uma campanha de descontos.\n",
        "* Pequeno grupo de clientes gera grande parte do faturamento.\n",
        "  * Fidelizar esse grupo com benefícios exclusivos.\n",
        "* Muitos clientes fazem várias compras, mas gastam pouco por pedido (ticket médio baixo).É necessário aumentar o valor médio dos pedidos.\n",
        "  * Implementar descontos progressivos para incentivar compras maiores.\n",
        "* Muitos clientes compram apenas uma vez e não retornam.\n",
        "  * Melhorar a experiência e o relacionamento. Assim como, implementar programas de fidelidade.\n",
        "* Enviar um e-mail pós-compra com sugestões personalizadas.\n",
        "* Criar um fluxo automatizado de engajamento para os primeiros 3 meses.\n",
        "Garantia de satisfação ou cashback para primeira compra.\n",
        "\n",
        "Essas ações são consideradas estratégicas e essenciais para o cenário em questão."
      ],
      "metadata": {
        "id": "ziZmH3BqjAn7"
      }
    }
  ]
}
